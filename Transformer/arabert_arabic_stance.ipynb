{
  "cells": [
    {
      "cell_type": "markdown",
      "id": "fallen-birthday",
      "metadata": {
        "papermill": {
          "duration": 0.024168,
          "end_time": "2022-03-13T18:49:53.733437",
          "exception": false,
          "start_time": "2022-03-13T18:49:53.709269",
          "status": "completed"
        },
        "tags": [],
        "id": "fallen-birthday"
      },
      "source": [
        "# About This Project"
      ]
    },
    {
      "cell_type": "markdown",
      "id": "productive-struggle",
      "metadata": {
        "papermill": {
          "duration": 0.022236,
          "end_time": "2022-03-13T18:49:53.778332",
          "exception": false,
          "start_time": "2022-03-13T18:49:53.756096",
          "status": "completed"
        },
        "tags": [],
        "id": "productive-struggle"
      },
      "source": [
        "# Bert Model and Tokenizers"
      ]
    },
    {
      "cell_type": "markdown",
      "id": "photographic-velvet",
      "metadata": {
        "papermill": {
          "duration": 0.022071,
          "end_time": "2022-03-13T18:49:53.823166",
          "exception": false,
          "start_time": "2022-03-13T18:49:53.801095",
          "status": "completed"
        },
        "tags": [],
        "id": "photographic-velvet"
      },
      "source": [
        "In many cases, the architecture you want to use can be guessed from the name or the path of the pretrained model you are supplying to the from_pretrained method."
      ]
    },
    {
      "cell_type": "markdown",
      "id": "demonstrated-equality",
      "metadata": {
        "papermill": {
          "duration": 0.024039,
          "end_time": "2022-03-13T18:49:53.870834",
          "exception": false,
          "start_time": "2022-03-13T18:49:53.846795",
          "status": "completed"
        },
        "tags": [],
        "id": "demonstrated-equality"
      },
      "source": [
        "The models were pretrained on ~8.2 Billion words:\n",
        "\n",
        "* Arabic version of [OSCAR](https://oscar-corpus.com/) (unshuffled version of the corpus) - filtered from [Common Crawl](http://commoncrawl.org/)\n",
        "* Recent dump of Arabic [Wikipedia](https://dumps.wikimedia.org/backup-index.html)\n",
        "and other Arabic resources which sum up to ~95GB of text.\n",
        "\n",
        "Pretraining procedure follows training settings of bert with some changes: trained for 4M training steps with batchsize of 128, instead of 1M with batchsize of 256."
      ]
    },
    {
      "cell_type": "markdown",
      "id": "official-median",
      "metadata": {
        "papermill": {
          "duration": 0.021877,
          "end_time": "2022-03-13T18:49:53.915199",
          "exception": false,
          "start_time": "2022-03-13T18:49:53.893322",
          "status": "completed"
        },
        "tags": [],
        "id": "official-median"
      },
      "source": [
        "|  | BERT-Mini | BERT-Medium   | BERT-Base  | BERT-Large  |\n",
        "|:---:|:---:|:---:|:---:|:---:|\n",
        "| Hidden Layers | 4 | 8 | 12 | 24 |\n",
        "| Attention heads | 4 | 8 | 12 | 16 |\n",
        "| Hidden size | 256 | 512 | 768 | 1024 |\n",
        "| Parameters | 11M | 42M | 110M | 340M |"
      ]
    },
    {
      "cell_type": "markdown",
      "id": "better-neighbor",
      "metadata": {
        "papermill": {
          "duration": 0.021751,
          "end_time": "2022-03-13T18:49:53.959098",
          "exception": false,
          "start_time": "2022-03-13T18:49:53.937347",
          "status": "completed"
        },
        "tags": [],
        "id": "better-neighbor"
      },
      "source": [
        "* Mini:   *asafaya/bert-mini-arabic* \n",
        "* Medium: *asafaya/bert-medium-arabic* \n",
        "* Base:   *asafaya/bert-base-arabic *\n",
        "* Large:  *asafaya/bert-large-arabic* \n",
        "\n"
      ]
    },
    {
      "cell_type": "markdown",
      "id": "noted-dealer",
      "metadata": {
        "papermill": {
          "duration": 0.021324,
          "end_time": "2022-03-13T18:49:54.002338",
          "exception": false,
          "start_time": "2022-03-13T18:49:53.981014",
          "status": "completed"
        },
        "tags": [],
        "id": "noted-dealer"
      },
      "source": [
        "Hugginface provides pretrained models and architecture into a single lines\n",
        "\n",
        "* tokenizer = AutoTokenizer.from_pretrained(\"asafaya/bert-base-arabic\")\n",
        "* model = AutoModel.from_pretrained(\"asafaya/bert-base-arabic\")"
      ]
    },
    {
      "cell_type": "markdown",
      "id": "outdoor-basketball",
      "metadata": {
        "papermill": {
          "duration": 0.022657,
          "end_time": "2022-03-13T18:49:54.047963",
          "exception": false,
          "start_time": "2022-03-13T18:49:54.025306",
          "status": "completed"
        },
        "tags": [],
        "id": "outdoor-basketball"
      },
      "source": [
        "# Look inside the dataset files"
      ]
    },
    {
      "cell_type": "markdown",
      "id": "gorgeous-electron",
      "metadata": {
        "papermill": {
          "duration": 0.022528,
          "end_time": "2022-03-13T18:49:54.093333",
          "exception": false,
          "start_time": "2022-03-13T18:49:54.070805",
          "status": "completed"
        },
        "tags": [],
        "id": "gorgeous-electron"
      },
      "source": [
        "Dataset files are already divided into train and test dataset. "
      ]
    },
    {
      "cell_type": "code",
      "execution_count": 45,
      "id": "congressional-inflation",
      "metadata": {
        "execution": {
          "iopub.execute_input": "2022-03-13T18:49:54.146769Z",
          "iopub.status.busy": "2022-03-13T18:49:54.145851Z",
          "iopub.status.idle": "2022-03-13T18:49:57.470086Z",
          "shell.execute_reply": "2022-03-13T18:49:57.468661Z",
          "shell.execute_reply.started": "2022-03-13T17:50:29.020534Z"
        },
        "papermill": {
          "duration": 3.354141,
          "end_time": "2022-03-13T18:49:57.470271",
          "exception": false,
          "start_time": "2022-03-13T18:49:54.116130",
          "status": "completed"
        },
        "tags": [],
        "id": "congressional-inflation"
      },
      "outputs": [],
      "source": [
        "import os\n",
        "import sys\n",
        "\n",
        "import pandas as pd \n",
        "import numpy as np\n",
        "import seaborn as sns\n",
        "import matplotlib.pyplot as plt\n",
        "from pylab import rcParams\n",
        "from matplotlib import rc\n",
        "import joblib\n",
        "\n",
        "from transformers import AutoTokenizer, AutoModel"
      ]
    },
    {
      "cell_type": "code",
      "source": [
        "pip install transformers"
      ],
      "metadata": {
        "colab": {
          "base_uri": "https://localhost:8080/"
        },
        "id": "_VdjrHScMNc0",
        "outputId": "57302dec-fef7-479e-a61c-8b5c515eccd9"
      },
      "id": "_VdjrHScMNc0",
      "execution_count": 1,
      "outputs": [
        {
          "output_type": "stream",
          "name": "stdout",
          "text": [
            "Looking in indexes: https://pypi.org/simple, https://us-python.pkg.dev/colab-wheels/public/simple/\n",
            "Collecting transformers\n",
            "  Downloading transformers-4.25.1-py3-none-any.whl (5.8 MB)\n",
            "\u001b[K     |████████████████████████████████| 5.8 MB 4.2 MB/s \n",
            "\u001b[?25hRequirement already satisfied: numpy>=1.17 in /usr/local/lib/python3.8/dist-packages (from transformers) (1.21.6)\n",
            "Collecting tokenizers!=0.11.3,<0.14,>=0.11.1\n",
            "  Downloading tokenizers-0.13.2-cp38-cp38-manylinux_2_17_x86_64.manylinux2014_x86_64.whl (7.6 MB)\n",
            "\u001b[K     |████████████████████████████████| 7.6 MB 43.3 MB/s \n",
            "\u001b[?25hRequirement already satisfied: packaging>=20.0 in /usr/local/lib/python3.8/dist-packages (from transformers) (21.3)\n",
            "Requirement already satisfied: regex!=2019.12.17 in /usr/local/lib/python3.8/dist-packages (from transformers) (2022.6.2)\n",
            "Collecting huggingface-hub<1.0,>=0.10.0\n",
            "  Downloading huggingface_hub-0.11.1-py3-none-any.whl (182 kB)\n",
            "\u001b[K     |████████████████████████████████| 182 kB 61.5 MB/s \n",
            "\u001b[?25hRequirement already satisfied: tqdm>=4.27 in /usr/local/lib/python3.8/dist-packages (from transformers) (4.64.1)\n",
            "Requirement already satisfied: pyyaml>=5.1 in /usr/local/lib/python3.8/dist-packages (from transformers) (6.0)\n",
            "Requirement already satisfied: filelock in /usr/local/lib/python3.8/dist-packages (from transformers) (3.8.2)\n",
            "Requirement already satisfied: requests in /usr/local/lib/python3.8/dist-packages (from transformers) (2.23.0)\n",
            "Requirement already satisfied: typing-extensions>=3.7.4.3 in /usr/local/lib/python3.8/dist-packages (from huggingface-hub<1.0,>=0.10.0->transformers) (4.4.0)\n",
            "Requirement already satisfied: pyparsing!=3.0.5,>=2.0.2 in /usr/local/lib/python3.8/dist-packages (from packaging>=20.0->transformers) (3.0.9)\n",
            "Requirement already satisfied: certifi>=2017.4.17 in /usr/local/lib/python3.8/dist-packages (from requests->transformers) (2022.12.7)\n",
            "Requirement already satisfied: chardet<4,>=3.0.2 in /usr/local/lib/python3.8/dist-packages (from requests->transformers) (3.0.4)\n",
            "Requirement already satisfied: urllib3!=1.25.0,!=1.25.1,<1.26,>=1.21.1 in /usr/local/lib/python3.8/dist-packages (from requests->transformers) (1.24.3)\n",
            "Requirement already satisfied: idna<3,>=2.5 in /usr/local/lib/python3.8/dist-packages (from requests->transformers) (2.10)\n",
            "Installing collected packages: tokenizers, huggingface-hub, transformers\n",
            "Successfully installed huggingface-hub-0.11.1 tokenizers-0.13.2 transformers-4.25.1\n"
          ]
        }
      ]
    },
    {
      "cell_type": "code",
      "source": [
        "pip install pytorch_lightning"
      ],
      "metadata": {
        "colab": {
          "base_uri": "https://localhost:8080/"
        },
        "id": "5E5CBeu7MsBE",
        "outputId": "d6206d13-e8d6-49e1-ec6e-0c7a8152b442"
      },
      "id": "5E5CBeu7MsBE",
      "execution_count": 3,
      "outputs": [
        {
          "output_type": "stream",
          "name": "stdout",
          "text": [
            "Looking in indexes: https://pypi.org/simple, https://us-python.pkg.dev/colab-wheels/public/simple/\n",
            "Collecting pytorch_lightning\n",
            "  Downloading pytorch_lightning-1.8.6-py3-none-any.whl (800 kB)\n",
            "\u001b[K     |████████████████████████████████| 800 kB 3.3 MB/s \n",
            "\u001b[?25hRequirement already satisfied: torch>=1.9.0 in /usr/local/lib/python3.8/dist-packages (from pytorch_lightning) (1.13.0+cu116)\n",
            "Collecting lightning-utilities!=0.4.0,>=0.3.0\n",
            "  Downloading lightning_utilities-0.5.0-py3-none-any.whl (18 kB)\n",
            "Requirement already satisfied: tqdm>=4.57.0 in /usr/local/lib/python3.8/dist-packages (from pytorch_lightning) (4.64.1)\n",
            "Collecting tensorboardX>=2.2\n",
            "  Downloading tensorboardX-2.5.1-py2.py3-none-any.whl (125 kB)\n",
            "\u001b[K     |████████████████████████████████| 125 kB 57.9 MB/s \n",
            "\u001b[?25hRequirement already satisfied: fsspec[http]>2021.06.0 in /usr/local/lib/python3.8/dist-packages (from pytorch_lightning) (2022.11.0)\n",
            "Collecting torchmetrics>=0.7.0\n",
            "  Downloading torchmetrics-0.11.0-py3-none-any.whl (512 kB)\n",
            "\u001b[K     |████████████████████████████████| 512 kB 9.2 MB/s \n",
            "\u001b[?25hRequirement already satisfied: typing-extensions>=4.0.0 in /usr/local/lib/python3.8/dist-packages (from pytorch_lightning) (4.4.0)\n",
            "Requirement already satisfied: PyYAML>=5.4 in /usr/local/lib/python3.8/dist-packages (from pytorch_lightning) (6.0)\n",
            "Requirement already satisfied: packaging>=17.0 in /usr/local/lib/python3.8/dist-packages (from pytorch_lightning) (21.3)\n",
            "Requirement already satisfied: numpy>=1.17.2 in /usr/local/lib/python3.8/dist-packages (from pytorch_lightning) (1.21.6)\n",
            "Requirement already satisfied: requests in /usr/local/lib/python3.8/dist-packages (from fsspec[http]>2021.06.0->pytorch_lightning) (2.23.0)\n",
            "Requirement already satisfied: aiohttp!=4.0.0a0,!=4.0.0a1 in /usr/local/lib/python3.8/dist-packages (from fsspec[http]>2021.06.0->pytorch_lightning) (3.8.3)\n",
            "Requirement already satisfied: async-timeout<5.0,>=4.0.0a3 in /usr/local/lib/python3.8/dist-packages (from aiohttp!=4.0.0a0,!=4.0.0a1->fsspec[http]>2021.06.0->pytorch_lightning) (4.0.2)\n",
            "Requirement already satisfied: aiosignal>=1.1.2 in /usr/local/lib/python3.8/dist-packages (from aiohttp!=4.0.0a0,!=4.0.0a1->fsspec[http]>2021.06.0->pytorch_lightning) (1.3.1)\n",
            "Requirement already satisfied: charset-normalizer<3.0,>=2.0 in /usr/local/lib/python3.8/dist-packages (from aiohttp!=4.0.0a0,!=4.0.0a1->fsspec[http]>2021.06.0->pytorch_lightning) (2.1.1)\n",
            "Requirement already satisfied: multidict<7.0,>=4.5 in /usr/local/lib/python3.8/dist-packages (from aiohttp!=4.0.0a0,!=4.0.0a1->fsspec[http]>2021.06.0->pytorch_lightning) (6.0.3)\n",
            "Requirement already satisfied: yarl<2.0,>=1.0 in /usr/local/lib/python3.8/dist-packages (from aiohttp!=4.0.0a0,!=4.0.0a1->fsspec[http]>2021.06.0->pytorch_lightning) (1.8.2)\n",
            "Requirement already satisfied: attrs>=17.3.0 in /usr/local/lib/python3.8/dist-packages (from aiohttp!=4.0.0a0,!=4.0.0a1->fsspec[http]>2021.06.0->pytorch_lightning) (22.1.0)\n",
            "Requirement already satisfied: frozenlist>=1.1.1 in /usr/local/lib/python3.8/dist-packages (from aiohttp!=4.0.0a0,!=4.0.0a1->fsspec[http]>2021.06.0->pytorch_lightning) (1.3.3)\n",
            "Requirement already satisfied: pyparsing!=3.0.5,>=2.0.2 in /usr/local/lib/python3.8/dist-packages (from packaging>=17.0->pytorch_lightning) (3.0.9)\n",
            "Requirement already satisfied: protobuf<=3.20.1,>=3.8.0 in /usr/local/lib/python3.8/dist-packages (from tensorboardX>=2.2->pytorch_lightning) (3.19.6)\n",
            "Requirement already satisfied: idna>=2.0 in /usr/local/lib/python3.8/dist-packages (from yarl<2.0,>=1.0->aiohttp!=4.0.0a0,!=4.0.0a1->fsspec[http]>2021.06.0->pytorch_lightning) (2.10)\n",
            "Requirement already satisfied: certifi>=2017.4.17 in /usr/local/lib/python3.8/dist-packages (from requests->fsspec[http]>2021.06.0->pytorch_lightning) (2022.12.7)\n",
            "Requirement already satisfied: chardet<4,>=3.0.2 in /usr/local/lib/python3.8/dist-packages (from requests->fsspec[http]>2021.06.0->pytorch_lightning) (3.0.4)\n",
            "Requirement already satisfied: urllib3!=1.25.0,!=1.25.1,<1.26,>=1.21.1 in /usr/local/lib/python3.8/dist-packages (from requests->fsspec[http]>2021.06.0->pytorch_lightning) (1.24.3)\n",
            "Installing collected packages: torchmetrics, tensorboardX, lightning-utilities, pytorch-lightning\n",
            "Successfully installed lightning-utilities-0.5.0 pytorch-lightning-1.8.6 tensorboardX-2.5.1 torchmetrics-0.11.0\n"
          ]
        }
      ]
    },
    {
      "cell_type": "code",
      "execution_count": 21,
      "id": "fifteen-cement",
      "metadata": {
        "execution": {
          "iopub.execute_input": "2022-03-13T18:49:57.526410Z",
          "iopub.status.busy": "2022-03-13T18:49:57.525779Z",
          "iopub.status.idle": "2022-03-13T18:50:01.196598Z",
          "shell.execute_reply": "2022-03-13T18:50:01.197463Z",
          "shell.execute_reply.started": "2022-03-13T17:50:29.087457Z"
        },
        "papermill": {
          "duration": 3.704412,
          "end_time": "2022-03-13T18:50:01.197644",
          "exception": false,
          "start_time": "2022-03-13T18:49:57.493232",
          "status": "completed"
        },
        "tags": [],
        "colab": {
          "base_uri": "https://localhost:8080/",
          "height": 363
        },
        "id": "fifteen-cement",
        "outputId": "0d715606-9141-49e8-d532-ade6535eea77"
      },
      "outputs": [
        {
          "output_type": "execute_result",
          "data": {
            "text/plain": [
              "                                                text   category  stance\n",
              "0  بيل غيتس يتلقى لقاح #كوفيد19 من غير تصوير الاب...  celebrity       1\n",
              "1  وزير الصحة لحد اليوم وتحديدا هلأ بمؤتمروا الصح...  info_news       1\n",
              "2  قولكن  رح يكونو اد المسؤولية ب لبنان لما يوصل ...  info_news       1\n",
              "3  #تركيا.. وزير الصحة فخر الدين قوجة يتلقى أول ج...  celebrity       1\n",
              "4  وئام وهاب يشتم الدول الخليجية في كل طلة اعلامي...   personal       0\n",
              "5  لقاح #كورونا في أميركا.. قلق متزايد من \"التوزي...  info_news       0\n",
              "6  لبنان اشترى مليونان لقاح امريكي اذا شلنا يلي ع...  info_news       1\n",
              "7  من عوارض لقاح كورونا<LF>هو تهكير حسابك عتويتر<...   personal       0\n",
              "8  هناك 1780 مليونيراً في لبنان. ماذا لو فُرضت ال...  unrelated       0\n",
              "9  دعبول حضرتك منو انت وتطلب من قائد دولة إسلامية...  info_news       1"
            ],
            "text/html": [
              "\n",
              "  <div id=\"df-1e57f1d7-01eb-4126-b4be-6983ac2f594e\">\n",
              "    <div class=\"colab-df-container\">\n",
              "      <div>\n",
              "<style scoped>\n",
              "    .dataframe tbody tr th:only-of-type {\n",
              "        vertical-align: middle;\n",
              "    }\n",
              "\n",
              "    .dataframe tbody tr th {\n",
              "        vertical-align: top;\n",
              "    }\n",
              "\n",
              "    .dataframe thead th {\n",
              "        text-align: right;\n",
              "    }\n",
              "</style>\n",
              "<table border=\"1\" class=\"dataframe\">\n",
              "  <thead>\n",
              "    <tr style=\"text-align: right;\">\n",
              "      <th></th>\n",
              "      <th>text</th>\n",
              "      <th>category</th>\n",
              "      <th>stance</th>\n",
              "    </tr>\n",
              "  </thead>\n",
              "  <tbody>\n",
              "    <tr>\n",
              "      <th>0</th>\n",
              "      <td>بيل غيتس يتلقى لقاح #كوفيد19 من غير تصوير الاب...</td>\n",
              "      <td>celebrity</td>\n",
              "      <td>1</td>\n",
              "    </tr>\n",
              "    <tr>\n",
              "      <th>1</th>\n",
              "      <td>وزير الصحة لحد اليوم وتحديدا هلأ بمؤتمروا الصح...</td>\n",
              "      <td>info_news</td>\n",
              "      <td>1</td>\n",
              "    </tr>\n",
              "    <tr>\n",
              "      <th>2</th>\n",
              "      <td>قولكن  رح يكونو اد المسؤولية ب لبنان لما يوصل ...</td>\n",
              "      <td>info_news</td>\n",
              "      <td>1</td>\n",
              "    </tr>\n",
              "    <tr>\n",
              "      <th>3</th>\n",
              "      <td>#تركيا.. وزير الصحة فخر الدين قوجة يتلقى أول ج...</td>\n",
              "      <td>celebrity</td>\n",
              "      <td>1</td>\n",
              "    </tr>\n",
              "    <tr>\n",
              "      <th>4</th>\n",
              "      <td>وئام وهاب يشتم الدول الخليجية في كل طلة اعلامي...</td>\n",
              "      <td>personal</td>\n",
              "      <td>0</td>\n",
              "    </tr>\n",
              "    <tr>\n",
              "      <th>5</th>\n",
              "      <td>لقاح #كورونا في أميركا.. قلق متزايد من \"التوزي...</td>\n",
              "      <td>info_news</td>\n",
              "      <td>0</td>\n",
              "    </tr>\n",
              "    <tr>\n",
              "      <th>6</th>\n",
              "      <td>لبنان اشترى مليونان لقاح امريكي اذا شلنا يلي ع...</td>\n",
              "      <td>info_news</td>\n",
              "      <td>1</td>\n",
              "    </tr>\n",
              "    <tr>\n",
              "      <th>7</th>\n",
              "      <td>من عوارض لقاح كورونا&lt;LF&gt;هو تهكير حسابك عتويتر&lt;...</td>\n",
              "      <td>personal</td>\n",
              "      <td>0</td>\n",
              "    </tr>\n",
              "    <tr>\n",
              "      <th>8</th>\n",
              "      <td>هناك 1780 مليونيراً في لبنان. ماذا لو فُرضت ال...</td>\n",
              "      <td>unrelated</td>\n",
              "      <td>0</td>\n",
              "    </tr>\n",
              "    <tr>\n",
              "      <th>9</th>\n",
              "      <td>دعبول حضرتك منو انت وتطلب من قائد دولة إسلامية...</td>\n",
              "      <td>info_news</td>\n",
              "      <td>1</td>\n",
              "    </tr>\n",
              "  </tbody>\n",
              "</table>\n",
              "</div>\n",
              "      <button class=\"colab-df-convert\" onclick=\"convertToInteractive('df-1e57f1d7-01eb-4126-b4be-6983ac2f594e')\"\n",
              "              title=\"Convert this dataframe to an interactive table.\"\n",
              "              style=\"display:none;\">\n",
              "        \n",
              "  <svg xmlns=\"http://www.w3.org/2000/svg\" height=\"24px\"viewBox=\"0 0 24 24\"\n",
              "       width=\"24px\">\n",
              "    <path d=\"M0 0h24v24H0V0z\" fill=\"none\"/>\n",
              "    <path d=\"M18.56 5.44l.94 2.06.94-2.06 2.06-.94-2.06-.94-.94-2.06-.94 2.06-2.06.94zm-11 1L8.5 8.5l.94-2.06 2.06-.94-2.06-.94L8.5 2.5l-.94 2.06-2.06.94zm10 10l.94 2.06.94-2.06 2.06-.94-2.06-.94-.94-2.06-.94 2.06-2.06.94z\"/><path d=\"M17.41 7.96l-1.37-1.37c-.4-.4-.92-.59-1.43-.59-.52 0-1.04.2-1.43.59L10.3 9.45l-7.72 7.72c-.78.78-.78 2.05 0 2.83L4 21.41c.39.39.9.59 1.41.59.51 0 1.02-.2 1.41-.59l7.78-7.78 2.81-2.81c.8-.78.8-2.07 0-2.86zM5.41 20L4 18.59l7.72-7.72 1.47 1.35L5.41 20z\"/>\n",
              "  </svg>\n",
              "      </button>\n",
              "      \n",
              "  <style>\n",
              "    .colab-df-container {\n",
              "      display:flex;\n",
              "      flex-wrap:wrap;\n",
              "      gap: 12px;\n",
              "    }\n",
              "\n",
              "    .colab-df-convert {\n",
              "      background-color: #E8F0FE;\n",
              "      border: none;\n",
              "      border-radius: 50%;\n",
              "      cursor: pointer;\n",
              "      display: none;\n",
              "      fill: #1967D2;\n",
              "      height: 32px;\n",
              "      padding: 0 0 0 0;\n",
              "      width: 32px;\n",
              "    }\n",
              "\n",
              "    .colab-df-convert:hover {\n",
              "      background-color: #E2EBFA;\n",
              "      box-shadow: 0px 1px 2px rgba(60, 64, 67, 0.3), 0px 1px 3px 1px rgba(60, 64, 67, 0.15);\n",
              "      fill: #174EA6;\n",
              "    }\n",
              "\n",
              "    [theme=dark] .colab-df-convert {\n",
              "      background-color: #3B4455;\n",
              "      fill: #D2E3FC;\n",
              "    }\n",
              "\n",
              "    [theme=dark] .colab-df-convert:hover {\n",
              "      background-color: #434B5C;\n",
              "      box-shadow: 0px 1px 3px 1px rgba(0, 0, 0, 0.15);\n",
              "      filter: drop-shadow(0px 1px 2px rgba(0, 0, 0, 0.3));\n",
              "      fill: #FFFFFF;\n",
              "    }\n",
              "  </style>\n",
              "\n",
              "      <script>\n",
              "        const buttonEl =\n",
              "          document.querySelector('#df-1e57f1d7-01eb-4126-b4be-6983ac2f594e button.colab-df-convert');\n",
              "        buttonEl.style.display =\n",
              "          google.colab.kernel.accessAllowed ? 'block' : 'none';\n",
              "\n",
              "        async function convertToInteractive(key) {\n",
              "          const element = document.querySelector('#df-1e57f1d7-01eb-4126-b4be-6983ac2f594e');\n",
              "          const dataTable =\n",
              "            await google.colab.kernel.invokeFunction('convertToInteractive',\n",
              "                                                     [key], {});\n",
              "          if (!dataTable) return;\n",
              "\n",
              "          const docLinkHtml = 'Like what you see? Visit the ' +\n",
              "            '<a target=\"_blank\" href=https://colab.research.google.com/notebooks/data_table.ipynb>data table notebook</a>'\n",
              "            + ' to learn more about interactive tables.';\n",
              "          element.innerHTML = '';\n",
              "          dataTable['output_type'] = 'display_data';\n",
              "          await google.colab.output.renderOutput(dataTable, element);\n",
              "          const docLink = document.createElement('div');\n",
              "          docLink.innerHTML = docLinkHtml;\n",
              "          element.appendChild(docLink);\n",
              "        }\n",
              "      </script>\n",
              "    </div>\n",
              "  </div>\n",
              "  "
            ]
          },
          "metadata": {},
          "execution_count": 21
        }
      ],
      "source": [
        "train = pd.read_csv(\"/content/train.csv\")\n",
        "val = pd.read_csv(\"/content/dev.csv\")\n",
        "train.head(10)"
      ]
    },
    {
      "cell_type": "code",
      "source": [
        "print(val[\"text\"].apply(len).mean())"
      ],
      "metadata": {
        "colab": {
          "base_uri": "https://localhost:8080/"
        },
        "id": "68ueF_b2SC2w",
        "outputId": "b31325a6-ad50-42ae-8026-9cfbf56ad0e4"
      },
      "id": "68ueF_b2SC2w",
      "execution_count": null,
      "outputs": [
        {
          "output_type": "stream",
          "name": "stdout",
          "text": [
            "81.327\n"
          ]
        }
      ]
    },
    {
      "cell_type": "code",
      "execution_count": null,
      "id": "proved-group",
      "metadata": {
        "execution": {
          "iopub.execute_input": "2022-03-13T18:50:01.250499Z",
          "iopub.status.busy": "2022-03-13T18:50:01.249830Z",
          "iopub.status.idle": "2022-03-13T18:50:01.254558Z",
          "shell.execute_reply": "2022-03-13T18:50:01.253996Z",
          "shell.execute_reply.started": "2022-03-13T17:50:32.385138Z"
        },
        "papermill": {
          "duration": 0.032807,
          "end_time": "2022-03-13T18:50:01.254731",
          "exception": false,
          "start_time": "2022-03-13T18:50:01.221924",
          "status": "completed"
        },
        "tags": [],
        "id": "proved-group"
      },
      "outputs": [],
      "source": [
        "# %matplotlib inline\n",
        "# %config InlineBackend.figure_format='retina'\n",
        "\n",
        "# tokenizer = AutoTokenizer.from_pretrained(\"asafaya/bert-mini-arabic\")\n",
        "\n",
        "# sns.set(style='whitegrid', palette='muted', font_scale=1.2)\n",
        "# rcParams['figure.figsize'] = 16, 6\n",
        "\n",
        "# text_token_counts = df['clean_text'].apply(lambda x : len(tokenizer.encode(x)))\n",
        "# fig, (ax1, ax2) = plt.subplots(1, 2)\n",
        "# sns.histplot(text_token_counts, ax=ax1)\n",
        "# sns.boxplot(text_token_counts, ax=ax2)"
      ]
    },
    {
      "cell_type": "markdown",
      "id": "fuzzy-marble",
      "metadata": {
        "papermill": {
          "duration": 0.023796,
          "end_time": "2022-03-13T18:50:01.302852",
          "exception": false,
          "start_time": "2022-03-13T18:50:01.279056",
          "status": "completed"
        },
        "tags": [],
        "id": "fuzzy-marble"
      },
      "source": [
        "# Dataset Module"
      ]
    },
    {
      "cell_type": "code",
      "execution_count": 22,
      "id": "convertible-strike",
      "metadata": {
        "execution": {
          "iopub.execute_input": "2022-03-13T18:50:01.357273Z",
          "iopub.status.busy": "2022-03-13T18:50:01.356413Z",
          "iopub.status.idle": "2022-03-13T18:50:02.693011Z",
          "shell.execute_reply": "2022-03-13T18:50:02.691808Z",
          "shell.execute_reply.started": "2022-03-13T17:50:32.392485Z"
        },
        "papermill": {
          "duration": 1.365807,
          "end_time": "2022-03-13T18:50:02.693173",
          "exception": false,
          "start_time": "2022-03-13T18:50:01.327366",
          "status": "completed"
        },
        "tags": [],
        "id": "convertible-strike"
      },
      "outputs": [],
      "source": [
        "import torch\n",
        "import pytorch_lightning as pl\n",
        "\n",
        "from torch.utils.data import Dataset, DataLoader\n",
        "from sklearn.model_selection import train_test_split\n",
        "from sklearn.preprocessing import LabelEncoder"
      ]
    },
    {
      "cell_type": "markdown",
      "id": "colonial-tobacco",
      "metadata": {
        "papermill": {
          "duration": 0.022907,
          "end_time": "2022-03-13T18:50:02.740028",
          "exception": false,
          "start_time": "2022-03-13T18:50:02.717121",
          "status": "completed"
        },
        "tags": [],
        "id": "colonial-tobacco"
      },
      "source": [
        "Feature Engieering and data files"
      ]
    },
    {
      "cell_type": "code",
      "execution_count": 23,
      "id": "aerial-tokyo",
      "metadata": {
        "execution": {
          "iopub.execute_input": "2022-03-13T18:50:02.810159Z",
          "iopub.status.busy": "2022-03-13T18:50:02.809056Z",
          "iopub.status.idle": "2022-03-13T18:50:05.638996Z",
          "shell.execute_reply": "2022-03-13T18:50:05.640316Z",
          "shell.execute_reply.started": "2022-03-13T17:50:33.559453Z"
        },
        "papermill": {
          "duration": 2.870043,
          "end_time": "2022-03-13T18:50:05.640621",
          "exception": false,
          "start_time": "2022-03-13T18:50:02.770578",
          "status": "completed"
        },
        "tags": [],
        "id": "aerial-tokyo"
      },
      "outputs": [],
      "source": [
        "from sklearn.preprocessing import LabelEncoder\n",
        "import joblib\n",
        "#in previous cell we read datafiles \n",
        "# train = pd.concat((train_pos,train_neg),axis=0).sample(frac=1.0).reset_index(drop=True)\n",
        "# val = pd.concat((test_pos,test_neg),axis=0).sample(frac=1.0).reset_index(drop=True)\n",
        "# train = train.rename(columns={0:\"label\",1:\"text\"})\n",
        "# val = val.rename(columns={0:\"label\",1:\"text\"})\n",
        "lbl_enc = LabelEncoder()\n",
        "train.loc[:,\"stance\"] = lbl_enc.fit_transform(train[\"stance\"])\n",
        "val.loc[:,\"stance\"] = lbl_enc.fit_transform(val[\"stance\"])\n",
        "joblib.dump(lbl_enc,\"label_encoder.pkl\")\n",
        "train.to_csv(\"train.csv\",index=False)\n",
        "val.to_csv(\"dev.csv\",index=False)"
      ]
    },
    {
      "cell_type": "code",
      "execution_count": 24,
      "id": "massive-height",
      "metadata": {
        "execution": {
          "iopub.execute_input": "2022-03-13T18:50:05.733536Z",
          "iopub.status.busy": "2022-03-13T18:50:05.730037Z",
          "iopub.status.idle": "2022-03-13T18:50:05.737219Z",
          "shell.execute_reply": "2022-03-13T18:50:05.736318Z",
          "shell.execute_reply.started": "2022-03-13T17:50:36.551418Z"
        },
        "papermill": {
          "duration": 0.056299,
          "end_time": "2022-03-13T18:50:05.737448",
          "exception": false,
          "start_time": "2022-03-13T18:50:05.681149",
          "status": "completed"
        },
        "tags": [],
        "colab": {
          "base_uri": "https://localhost:8080/"
        },
        "id": "massive-height",
        "outputId": "ae4afb1e-16a4-4868-892f-60faaef1db6c"
      },
      "outputs": [
        {
          "output_type": "execute_result",
          "data": {
            "text/plain": [
              "array([-1,  0,  1])"
            ]
          },
          "metadata": {},
          "execution_count": 24
        }
      ],
      "source": [
        "lbl_enc.classes_"
      ]
    },
    {
      "cell_type": "code",
      "execution_count": 25,
      "id": "marine-neighborhood",
      "metadata": {
        "execution": {
          "iopub.execute_input": "2022-03-13T18:50:05.831356Z",
          "iopub.status.busy": "2022-03-13T18:50:05.830335Z",
          "iopub.status.idle": "2022-03-13T18:50:05.840093Z",
          "shell.execute_reply": "2022-03-13T18:50:05.841396Z",
          "shell.execute_reply.started": "2022-03-13T17:50:36.561295Z"
        },
        "papermill": {
          "duration": 0.063504,
          "end_time": "2022-03-13T18:50:05.841642",
          "exception": false,
          "start_time": "2022-03-13T18:50:05.778138",
          "status": "completed"
        },
        "tags": [],
        "id": "marine-neighborhood"
      },
      "outputs": [],
      "source": [
        "class ArabicDataset(Dataset):\n",
        "    def __init__(self,data,max_len,model_type=\"Mini\"):\n",
        "        super().__init__()\n",
        "        self.labels = data[\"stance\"].values\n",
        "        #data[\"text\"] = data['text'].apply(lambda x: processPost(x)) # applay post processing \n",
        "        self.texts = data[\"text\"].values\n",
        "        self.max_len = max_len\n",
        "        model = {\"Mini\": \"asafaya/bert-mini-arabic\",\n",
        "                \"Medium\": \"asafaya/bert-medium-arabic\",\n",
        "                \"Base\": \"asafaya/bert-base-arabic\",\n",
        "                \"Large\": \"asafaya/bert-large-arabic\"}\n",
        "        self.tokenizer = AutoTokenizer.from_pretrained(model[model_type])\n",
        "    \n",
        "    def __len__(self):\n",
        "        return len(self.texts)\n",
        "    \n",
        "    def __getitem__(self,idx):\n",
        "        text = \" \".join(self.texts[idx].split())\n",
        "        label = self.labels[idx]\n",
        "        inputs = self.tokenizer(text,padding='max_length',\n",
        "                                max_length=self.max_len,truncation=True,return_tensors=\"pt\")\n",
        "        #input_ids,token_type_ids,attention_mask\n",
        "        return {\n",
        "            \"inputs\":{\"input_ids\":inputs[\"input_ids\"][0],\n",
        "                      \"token_type_ids\":inputs[\"token_type_ids\"][0],\n",
        "                      \"attention_mask\":inputs[\"attention_mask\"][0],\n",
        "                     },\n",
        "            \"labels\": torch.tensor(label,dtype=torch.long) \n",
        "        }\n",
        "        \n"
      ]
    },
    {
      "cell_type": "markdown",
      "id": "individual-turkish",
      "metadata": {
        "papermill": {
          "duration": 0.043526,
          "end_time": "2022-03-13T18:50:05.932056",
          "exception": false,
          "start_time": "2022-03-13T18:50:05.888530",
          "status": "completed"
        },
        "tags": [],
        "id": "individual-turkish"
      },
      "source": [
        "Peeking dataset module"
      ]
    },
    {
      "cell_type": "code",
      "execution_count": null,
      "id": "bright-march",
      "metadata": {
        "execution": {
          "iopub.execute_input": "2022-03-13T18:50:06.020325Z",
          "iopub.status.busy": "2022-03-13T18:50:06.019123Z",
          "iopub.status.idle": "2022-03-13T18:50:06.022325Z",
          "shell.execute_reply": "2022-03-13T18:50:06.021434Z",
          "shell.execute_reply.started": "2022-03-13T17:50:36.574037Z"
        },
        "papermill": {
          "duration": 0.050996,
          "end_time": "2022-03-13T18:50:06.022550",
          "exception": false,
          "start_time": "2022-03-13T18:50:05.971554",
          "status": "completed"
        },
        "tags": [],
        "id": "bright-march"
      },
      "outputs": [],
      "source": [
        "# arabic_dataset = ArabicDataset(train,100)\n",
        "# print(next(iter(arabic_dataset)))"
      ]
    },
    {
      "cell_type": "code",
      "execution_count": 26,
      "id": "exempt-button",
      "metadata": {
        "execution": {
          "iopub.execute_input": "2022-03-13T18:50:06.125980Z",
          "iopub.status.busy": "2022-03-13T18:50:06.124988Z",
          "iopub.status.idle": "2022-03-13T18:50:06.129528Z",
          "shell.execute_reply": "2022-03-13T18:50:06.130278Z",
          "shell.execute_reply.started": "2022-03-13T17:50:36.583619Z"
        },
        "papermill": {
          "duration": 0.068873,
          "end_time": "2022-03-13T18:50:06.130522",
          "exception": false,
          "start_time": "2022-03-13T18:50:06.061649",
          "status": "completed"
        },
        "tags": [],
        "id": "exempt-button"
      },
      "outputs": [],
      "source": [
        "class ArabicDataModule(pl.LightningDataModule):\n",
        "    def __init__(self,train_path,val_path,batch_size=12,max_len=100,model_type=\"Mini\"):\n",
        "        super().__init__()\n",
        "        self.train_path,self.val_path= train_path,val_path\n",
        "        self.batch_size = batch_size\n",
        "        self.max_len = max_len\n",
        "        self.model_type = model_type\n",
        "    \n",
        "    def setup(self,stage=None):\n",
        "        train = pd.read_csv(self.train_path)\n",
        "        val = pd.read_csv(self.val_path)\n",
        "        self.train_dataset = ArabicDataset(data=train,max_len=self.max_len,model_type=self.model_type)\n",
        "        self.val_dataset = ArabicDataset(data=val,max_len=self.max_len,model_type=self.model_type)\n",
        "    \n",
        "    def train_dataloader(self):\n",
        "        return DataLoader(self.train_dataset,batch_size=self.batch_size,shuffle=True,num_workers=4)\n",
        "    \n",
        "    def val_dataloader(self):\n",
        "        return DataLoader(self.val_dataset,batch_size=self.batch_size,shuffle=False,num_workers=4)"
      ]
    },
    {
      "cell_type": "markdown",
      "id": "little-privilege",
      "metadata": {
        "papermill": {
          "duration": 0.038207,
          "end_time": "2022-03-13T18:50:06.207661",
          "exception": false,
          "start_time": "2022-03-13T18:50:06.169454",
          "status": "completed"
        },
        "tags": [],
        "id": "little-privilege"
      },
      "source": [
        "peeking into dataloader module"
      ]
    },
    {
      "cell_type": "code",
      "execution_count": null,
      "id": "motivated-strategy",
      "metadata": {
        "execution": {
          "iopub.execute_input": "2022-03-13T18:50:06.297220Z",
          "iopub.status.busy": "2022-03-13T18:50:06.296140Z",
          "iopub.status.idle": "2022-03-13T18:50:06.298942Z",
          "shell.execute_reply": "2022-03-13T18:50:06.298127Z",
          "shell.execute_reply.started": "2022-03-13T17:50:36.596544Z"
        },
        "papermill": {
          "duration": 0.050867,
          "end_time": "2022-03-13T18:50:06.299134",
          "exception": false,
          "start_time": "2022-03-13T18:50:06.248267",
          "status": "completed"
        },
        "tags": [],
        "id": "motivated-strategy"
      },
      "outputs": [],
      "source": [
        "# load = ArabicDataModule(train_path=\"./train.csv\",\n",
        "#                            val_path = \"./train.csv\",\n",
        "#                 batch_size=12,max_len=20)\n",
        "# load.setup()\n",
        "# next(iter(load.train_dataloader()))"
      ]
    },
    {
      "cell_type": "markdown",
      "id": "naval-cartridge",
      "metadata": {
        "papermill": {
          "duration": 0.03893,
          "end_time": "2022-03-13T18:50:06.377122",
          "exception": false,
          "start_time": "2022-03-13T18:50:06.338192",
          "status": "completed"
        },
        "tags": [],
        "id": "naval-cartridge"
      },
      "source": [
        "# Bert fine tuning Module"
      ]
    },
    {
      "cell_type": "code",
      "execution_count": 27,
      "id": "stainless-chocolate",
      "metadata": {
        "execution": {
          "iopub.execute_input": "2022-03-13T18:50:06.463456Z",
          "iopub.status.busy": "2022-03-13T18:50:06.462503Z",
          "iopub.status.idle": "2022-03-13T18:50:06.466839Z",
          "shell.execute_reply": "2022-03-13T18:50:06.467650Z",
          "shell.execute_reply.started": "2022-03-13T18:26:43.489671Z"
        },
        "papermill": {
          "duration": 0.051828,
          "end_time": "2022-03-13T18:50:06.467954",
          "exception": false,
          "start_time": "2022-03-13T18:50:06.416126",
          "status": "completed"
        },
        "tags": [],
        "id": "stainless-chocolate"
      },
      "outputs": [],
      "source": [
        "import torch\n",
        "from torch import nn,optim\n",
        "\n",
        "from transformers import AutoTokenizer, AutoModel\n",
        "\n",
        "from sklearn.metrics import roc_auc_score, accuracy_score\n",
        "from sklearn.model_selection import train_test_split"
      ]
    },
    {
      "cell_type": "markdown",
      "id": "lucky-mayor",
      "metadata": {
        "papermill": {
          "duration": 0.038772,
          "end_time": "2022-03-13T18:50:06.548841",
          "exception": false,
          "start_time": "2022-03-13T18:50:06.510069",
          "status": "completed"
        },
        "tags": [],
        "id": "lucky-mayor"
      },
      "source": [
        "# Run and Save Checkpoints"
      ]
    },
    {
      "cell_type": "code",
      "execution_count": 50,
      "id": "neither-lesson",
      "metadata": {
        "execution": {
          "iopub.execute_input": "2022-03-13T18:50:06.639929Z",
          "iopub.status.busy": "2022-03-13T18:50:06.638899Z",
          "iopub.status.idle": "2022-03-13T18:50:06.647607Z",
          "shell.execute_reply": "2022-03-13T18:50:06.648910Z",
          "shell.execute_reply.started": "2022-03-13T18:26:44.604167Z"
        },
        "papermill": {
          "duration": 0.062027,
          "end_time": "2022-03-13T18:50:06.649183",
          "exception": false,
          "start_time": "2022-03-13T18:50:06.587156",
          "status": "completed"
        },
        "tags": [],
        "id": "neither-lesson"
      },
      "outputs": [],
      "source": [
        "class ArabicBertModel(pl.LightningModule):\n",
        "    def __init__(self,model_type=\"Mini\"):\n",
        "        super().__init__()\n",
        "        model = {\"Mini\": (\"asafaya/bert-mini-arabic\",256),\n",
        "                \"Medium\": (\"asafaya/bert-medium-arabic\",512),\n",
        "                \"Base\": (\"asafaya/bert-base-arabic\",768),\n",
        "                \"Large\": (\"asafaya/bert-large-arabic\",1024)}\n",
        "        self.bert_model = AutoModel.from_pretrained(model[model_type][0])\n",
        "        self.fc = nn.Linear(model[model_type][1],3)\n",
        "    \n",
        "    def forward(self,inputs):\n",
        "        out = self.bert_model(**inputs)#inputs[\"input_ids\"],inputs[\"token_type_ids\"],inputs[\"attention_mask\"])\n",
        "        pooler = out[1]\n",
        "        out = self.fc(pooler)\n",
        "        return out\n",
        "    \n",
        "    def configure_optimizers(self):\n",
        "        return optim.AdamW(self.parameters(), lr=0.0001)\n",
        "    \n",
        "    def criterion(self,output,target):\n",
        "        return nn.CrossEntropyLoss(weight=torch.tensor([5.0, 2.0, 1.0]))(output,target)\n",
        "    \n",
        "    #TODO: adding metrics\n",
        "    def training_step(self,batch,batch_idx):\n",
        "        x,y = batch[\"inputs\"],batch[\"labels\"]\n",
        "        out = self(x)\n",
        "        loss = self.criterion(out,y)\n",
        "        return loss\n",
        "    \n",
        "    def validation_step(self,batch,batch_idx):\n",
        "        x,y = batch[\"inputs\"],batch[\"labels\"]\n",
        "        out = self(x)\n",
        "        loss = self.criterion(out,y)\n",
        "        return loss"
      ]
    },
    {
      "cell_type": "code",
      "execution_count": 52,
      "id": "spare-riverside",
      "metadata": {
        "execution": {
          "iopub.execute_input": "2022-03-13T18:50:06.743173Z",
          "iopub.status.busy": "2022-03-13T18:50:06.738105Z",
          "iopub.status.idle": "2022-03-13T21:51:10.099670Z",
          "shell.execute_reply": "2022-03-13T21:51:10.098766Z",
          "shell.execute_reply.started": "2022-03-13T18:26:45.326495Z"
        },
        "papermill": {
          "duration": 10863.410782,
          "end_time": "2022-03-13T21:51:10.099860",
          "exception": false,
          "start_time": "2022-03-13T18:50:06.689078",
          "status": "completed"
        },
        "tags": [],
        "colab": {
          "base_uri": "https://localhost:8080/",
          "height": 399,
          "referenced_widgets": [
            "e1d6fe5fb1f64c0ca4cadaf8c1414a91",
            "1685607a8ad44e8ebd25d43f086c3672",
            "458daea7c66b46a1835103f30fc55daa",
            "bd702e62afa44f2193a847e8cdaa3ce3",
            "9c703e56f9844ba1b30b557c94a46c19",
            "2240795e95584688ad5330e0bb290bd9",
            "71861374cce542afbb32d9db729af110",
            "32b7624774ed44239ba57cf33114bc96",
            "ef04794aa5e641e7a85f11c75dd184b2",
            "e620f123e830495c9cd41d6d87f96d38",
            "b59305642ee04d87ac88302deae2123a",
            "918fe6fab3ae4e84b322a886d9568393",
            "0b332f20d85c4eb3bfa8b28df4c2a1b0",
            "a3b07f36093d4c269f4f69c938d42692",
            "271c71c369834f24839ddb84c84d7e22",
            "cc9ef97325d44ed3ba80dc5d9e6e681e",
            "cb35ee19203b4ce5bff694a875da0360",
            "7d0717d13ed24d45b434b3ee5fd556e3",
            "19a1d7a0fea4485a8a3022d415a1c088",
            "b8ce741bddff45be856f75541a7d79a4",
            "0806fb3b31dd4cfb82c9fa96b47a4d66",
            "df93fd715e0e4253bb4b919798d991eb"
          ]
        },
        "id": "spare-riverside",
        "outputId": "e03c1c26-c2a9-4de3-9049-7305a9ebd938"
      },
      "outputs": [
        {
          "output_type": "stream",
          "name": "stderr",
          "text": [
            "Some weights of the model checkpoint at asafaya/bert-mini-arabic were not used when initializing BertModel: ['cls.predictions.decoder.weight', 'cls.predictions.transform.LayerNorm.bias', 'cls.predictions.decoder.bias', 'cls.predictions.bias', 'cls.predictions.transform.dense.weight', 'cls.predictions.transform.dense.bias', 'cls.predictions.transform.LayerNorm.weight']\n",
            "- This IS expected if you are initializing BertModel from the checkpoint of a model trained on another task or with another architecture (e.g. initializing a BertForSequenceClassification model from a BertForPreTraining model).\n",
            "- This IS NOT expected if you are initializing BertModel from the checkpoint of a model that you expect to be exactly identical (initializing a BertForSequenceClassification model from a BertForSequenceClassification model).\n",
            "INFO:pytorch_lightning.utilities.rank_zero:GPU available: False, used: False\n",
            "INFO:pytorch_lightning.utilities.rank_zero:TPU available: False, using: 0 TPU cores\n",
            "INFO:pytorch_lightning.utilities.rank_zero:IPU available: False, using: 0 IPUs\n",
            "INFO:pytorch_lightning.utilities.rank_zero:HPU available: False, using: 0 HPUs\n",
            "INFO:pytorch_lightning.callbacks.model_summary:\n",
            "  | Name       | Type      | Params\n",
            "-----------------------------------------\n",
            "0 | bert_model | BertModel | 11.5 M\n",
            "1 | fc         | Linear    | 771   \n",
            "-----------------------------------------\n",
            "11.5 M    Trainable params\n",
            "0         Non-trainable params\n",
            "11.5 M    Total params\n",
            "46.199    Total estimated model params size (MB)\n"
          ]
        },
        {
          "output_type": "display_data",
          "data": {
            "text/plain": [
              "Sanity Checking: 0it [00:00, ?it/s]"
            ],
            "application/vnd.jupyter.widget-view+json": {
              "version_major": 2,
              "version_minor": 0,
              "model_id": "e1d6fe5fb1f64c0ca4cadaf8c1414a91"
            }
          },
          "metadata": {}
        },
        {
          "output_type": "display_data",
          "data": {
            "text/plain": [
              "Training: 0it [00:00, ?it/s]"
            ],
            "application/vnd.jupyter.widget-view+json": {
              "version_major": 2,
              "version_minor": 0,
              "model_id": "918fe6fab3ae4e84b322a886d9568393"
            }
          },
          "metadata": {}
        },
        {
          "output_type": "stream",
          "name": "stderr",
          "text": [
            "/usr/local/lib/python3.8/dist-packages/pytorch_lightning/trainer/call.py:48: UserWarning: Detected KeyboardInterrupt, attempting graceful shutdown...\n",
            "  rank_zero_warn(\"Detected KeyboardInterrupt, attempting graceful shutdown...\")\n"
          ]
        }
      ],
      "source": [
        "#TODO: getting different models sizes results\n",
        "MODEL_TYPE = \"Mini\"\n",
        "dm = ArabicDataModule(train_path=\"/content/train.csv\",\n",
        "                val_path = \"/content/train.csv\",\n",
        "                batch_size=128,max_len=80, model_type=MODEL_TYPE)\n",
        "\n",
        "model = ArabicBertModel(model_type=MODEL_TYPE)\n",
        "trainer = pl.Trainer(max_epochs=3)\n",
        "trainer.fit(model,dm)"
      ]
    },
    {
      "cell_type": "markdown",
      "id": "compatible-major",
      "metadata": {
        "papermill": {
          "duration": 0.032725,
          "end_time": "2022-03-13T21:51:10.166018",
          "exception": false,
          "start_time": "2022-03-13T21:51:10.133293",
          "status": "completed"
        },
        "tags": [],
        "id": "compatible-major"
      },
      "source": [
        "# Results and Discussions"
      ]
    },
    {
      "cell_type": "code",
      "execution_count": 55,
      "id": "linear-dealing",
      "metadata": {
        "execution": {
          "iopub.execute_input": "2022-03-13T21:51:10.245926Z",
          "iopub.status.busy": "2022-03-13T21:51:10.244611Z",
          "iopub.status.idle": "2022-03-13T21:55:09.909655Z",
          "shell.execute_reply": "2022-03-13T21:55:09.909061Z",
          "shell.execute_reply.started": "2022-03-13T18:43:58.763181Z"
        },
        "papermill": {
          "duration": 239.710624,
          "end_time": "2022-03-13T21:55:09.909928",
          "exception": false,
          "start_time": "2022-03-13T21:51:10.199304",
          "status": "completed"
        },
        "tags": [],
        "colab": {
          "base_uri": "https://localhost:8080/",
          "height": 208,
          "referenced_widgets": [
            "1224bf8a950a4e35bfa6c714dcf7541c",
            "2a4b0aee592a4003802dd1d3b1e0fb63",
            "013ce72e1bef40d3a9c5fc71ac253535",
            "8e9e607cd97a4755af5fa1ae4fd495b1",
            "6e92f10377c949b6a8ea777cd280a5b1",
            "c283d3a9948c46cfb9a623a0218cae4d",
            "db854708a1bc4e9580e11c4380c8f682",
            "b7d758cf11244681b686e2a1188c19aa",
            "7c227994c2884e2ca8bfd1ab8944ed94",
            "ea0e3b2958df4bcc9d5e600a9231bc12",
            "43f7f7c9d24242429af9ed06e196d30f"
          ]
        },
        "id": "linear-dealing",
        "outputId": "bf855e40-ba91-4c7a-9433-86d2fc8be36e"
      },
      "outputs": [
        {
          "output_type": "stream",
          "name": "stderr",
          "text": [
            "Some weights of the model checkpoint at asafaya/bert-mini-arabic were not used when initializing BertModel: ['cls.predictions.decoder.weight', 'cls.predictions.transform.LayerNorm.bias', 'cls.predictions.decoder.bias', 'cls.predictions.bias', 'cls.predictions.transform.dense.weight', 'cls.predictions.transform.dense.bias', 'cls.predictions.transform.LayerNorm.weight']\n",
            "- This IS expected if you are initializing BertModel from the checkpoint of a model trained on another task or with another architecture (e.g. initializing a BertForSequenceClassification model from a BertForPreTraining model).\n",
            "- This IS NOT expected if you are initializing BertModel from the checkpoint of a model that you expect to be exactly identical (initializing a BertForSequenceClassification model from a BertForSequenceClassification model).\n",
            "Some weights of the model checkpoint at asafaya/bert-mini-arabic were not used when initializing BertModel: ['cls.predictions.decoder.weight', 'cls.predictions.transform.LayerNorm.bias', 'cls.predictions.decoder.bias', 'cls.predictions.bias', 'cls.predictions.transform.dense.weight', 'cls.predictions.transform.dense.bias', 'cls.predictions.transform.LayerNorm.weight']\n",
            "- This IS expected if you are initializing BertModel from the checkpoint of a model trained on another task or with another architecture (e.g. initializing a BertForSequenceClassification model from a BertForPreTraining model).\n",
            "- This IS NOT expected if you are initializing BertModel from the checkpoint of a model that you expect to be exactly identical (initializing a BertForSequenceClassification model from a BertForSequenceClassification model).\n",
            "/usr/local/lib/python3.8/dist-packages/torch/utils/data/dataloader.py:554: UserWarning: This DataLoader will create 4 worker processes in total. Our suggested max number of worker in current system is 2, which is smaller than what this DataLoader is going to create. Please be aware that excessive worker creation might get DataLoader running slow or even freeze, lower the worker number to avoid potential slowness/freeze if necessary.\n",
            "  warnings.warn(_create_warning_msg(\n"
          ]
        },
        {
          "output_type": "display_data",
          "data": {
            "text/plain": [
              "  0%|          | 0/8 [00:00<?, ?it/s]"
            ],
            "application/vnd.jupyter.widget-view+json": {
              "version_major": 2,
              "version_minor": 0,
              "model_id": "1224bf8a950a4e35bfa6c714dcf7541c"
            }
          },
          "metadata": {}
        }
      ],
      "source": [
        "from tqdm.auto import tqdm\n",
        "\n",
        "\n",
        "\n",
        "modeltest= ArabicBertModel(model_type=MODEL_TYPE)\n",
        "modeltest = modeltest.load_from_checkpoint(\n",
        "    checkpoint_path=\"/content/lightning_logs/version_0/checkpoints/epoch=2-step=165.ckpt\",\n",
        "    hparams_file=\"/content/lightning_logs/version_0/hparams.yaml\",\n",
        "    map_location=None,\n",
        ")\n",
        "\n",
        "device = torch.device(\"cuda\" if torch.cuda.is_available() else \"cpu\")\n",
        "modeltest.to(device)\n",
        "\n",
        "\n",
        "preds = []\n",
        "real_values = []\n",
        "\n",
        "load = ArabicDataModule(train_path=\"/content/train.csv\",\n",
        "                           val_path = \"/content/dev.csv\",\n",
        "                batch_size=128,max_len=80)\n",
        "load.setup()\n",
        "test_dataloader = load.val_dataloader()\n",
        "\n",
        "progress_bar = tqdm(range(len(test_dataloader)))\n",
        "\n",
        "modeltest.eval()\n",
        "for batch in test_dataloader:    \n",
        "    x,y = batch[\"inputs\"],batch[\"labels\"]\n",
        "    inp = {k: v.to(device) for k, v in x.items()}\n",
        "    \n",
        "    with torch.no_grad():\n",
        "        outputs = modeltest(inp)\n",
        "\n",
        "    predictions = torch.argmax(outputs, dim=-1)\n",
        "    \n",
        "    preds.extend(predictions)\n",
        "    real_values.extend(y)\n",
        "\n",
        "    progress_bar.update()\n",
        "    \n",
        "preds = torch.stack(preds).cpu()\n",
        "real_values = torch.stack(real_values).cpu()"
      ]
    },
    {
      "cell_type": "code",
      "execution_count": 56,
      "id": "other-natural",
      "metadata": {
        "execution": {
          "iopub.execute_input": "2022-03-13T21:55:09.988947Z",
          "iopub.status.busy": "2022-03-13T21:55:09.987870Z",
          "iopub.status.idle": "2022-03-13T21:55:10.828329Z",
          "shell.execute_reply": "2022-03-13T21:55:10.828932Z",
          "shell.execute_reply.started": "2022-03-13T18:48:14.569493Z"
        },
        "papermill": {
          "duration": 0.882627,
          "end_time": "2022-03-13T21:55:10.829117",
          "exception": false,
          "start_time": "2022-03-13T21:55:09.946490",
          "status": "completed"
        },
        "tags": [],
        "colab": {
          "base_uri": "https://localhost:8080/"
        },
        "id": "other-natural",
        "outputId": "97418cd3-bca4-4421-b48a-a7e78a4922fb"
      },
      "outputs": [
        {
          "output_type": "stream",
          "name": "stdout",
          "text": [
            "              precision    recall  f1-score   support\n",
            "\n",
            "          -1       0.39      0.44      0.42        70\n",
            "           0       0.53      0.55      0.54       126\n",
            "           1       0.92      0.90      0.91       804\n",
            "\n",
            "    accuracy                           0.82      1000\n",
            "   macro avg       0.61      0.63      0.62      1000\n",
            "weighted avg       0.83      0.82      0.83      1000\n",
            "\n"
          ]
        }
      ],
      "source": [
        "from sklearn.metrics import classification_report\n",
        "\n",
        "print(classification_report(real_values, preds, target_names=list(map(str,lbl_enc.classes_))))"
      ]
    },
    {
      "cell_type": "code",
      "execution_count": 57,
      "id": "coordinated-diving",
      "metadata": {
        "papermill": {
          "duration": 0.03512,
          "end_time": "2022-03-13T21:55:10.900842",
          "exception": false,
          "start_time": "2022-03-13T21:55:10.865722",
          "status": "completed"
        },
        "tags": [],
        "id": "coordinated-diving",
        "colab": {
          "base_uri": "https://localhost:8080/"
        },
        "outputId": "a140652a-7976-4ce5-fb83-5b20dad44110"
      },
      "outputs": [
        {
          "output_type": "stream",
          "name": "stdout",
          "text": [
            "  adding: content/lightning_logs/ (stored 0%)\n",
            "  adding: content/lightning_logs/version_0/ (stored 0%)\n",
            "  adding: content/lightning_logs/version_0/hparams.yaml (stored 0%)\n",
            "  adding: content/lightning_logs/version_0/checkpoints/ (stored 0%)\n",
            "  adding: content/lightning_logs/version_0/checkpoints/epoch=2-step=165.ckpt (deflated 27%)\n",
            "  adding: content/lightning_logs/version_3/ (stored 0%)\n",
            "  adding: content/lightning_logs/version_3/hparams.yaml (stored 0%)\n",
            "  adding: content/lightning_logs/version_3/checkpoints/ (stored 0%)\n",
            "  adding: content/lightning_logs/version_3/checkpoints/epoch=4-step=275.ckpt (deflated 27%)\n",
            "  adding: content/lightning_logs/version_1/ (stored 0%)\n",
            "  adding: content/lightning_logs/version_1/hparams.yaml (stored 0%)\n",
            "  adding: content/lightning_logs/version_1/checkpoints/ (stored 0%)\n",
            "  adding: content/lightning_logs/version_1/checkpoints/epoch=2-step=165.ckpt (deflated 27%)\n",
            "  adding: content/lightning_logs/version_2/ (stored 0%)\n",
            "  adding: content/lightning_logs/version_2/hparams.yaml (stored 0%)\n",
            "  adding: content/lightning_logs/version_2/checkpoints/ (stored 0%)\n",
            "  adding: content/lightning_logs/version_2/checkpoints/epoch=9-step=550.ckpt (deflated 27%)\n"
          ]
        }
      ],
      "source": [
        "!zip -r /content/lightning_logs.zip /content/lightning_logs"
      ]
    }
  ],
  "metadata": {
    "kernelspec": {
      "display_name": "Python 3",
      "language": "python",
      "name": "python3"
    },
    "language_info": {
      "codemirror_mode": {
        "name": "ipython",
        "version": 3
      },
      "file_extension": ".py",
      "mimetype": "text/x-python",
      "name": "python",
      "nbconvert_exporter": "python",
      "pygments_lexer": "ipython3",
      "version": "3.7.9"
    },
    "papermill": {
      "default_parameters": {},
      "duration": 11125.535722,
      "end_time": "2022-03-13T21:55:13.272311",
      "environment_variables": {},
      "exception": null,
      "input_path": "__notebook__.ipynb",
      "output_path": "__notebook__.ipynb",
      "parameters": {},
      "start_time": "2022-03-13T18:49:47.736589",
      "version": "2.3.2"
    },
    "widgets": {
      "application/vnd.jupyter.widget-state+json": {
        "e1d6fe5fb1f64c0ca4cadaf8c1414a91": {
          "model_module": "@jupyter-widgets/controls",
          "model_name": "HBoxModel",
          "model_module_version": "1.5.0",
          "state": {
            "_dom_classes": [],
            "_model_module": "@jupyter-widgets/controls",
            "_model_module_version": "1.5.0",
            "_model_name": "HBoxModel",
            "_view_count": null,
            "_view_module": "@jupyter-widgets/controls",
            "_view_module_version": "1.5.0",
            "_view_name": "HBoxView",
            "box_style": "",
            "children": [
              "IPY_MODEL_1685607a8ad44e8ebd25d43f086c3672",
              "IPY_MODEL_458daea7c66b46a1835103f30fc55daa",
              "IPY_MODEL_bd702e62afa44f2193a847e8cdaa3ce3"
            ],
            "layout": "IPY_MODEL_9c703e56f9844ba1b30b557c94a46c19"
          }
        },
        "1685607a8ad44e8ebd25d43f086c3672": {
          "model_module": "@jupyter-widgets/controls",
          "model_name": "HTMLModel",
          "model_module_version": "1.5.0",
          "state": {
            "_dom_classes": [],
            "_model_module": "@jupyter-widgets/controls",
            "_model_module_version": "1.5.0",
            "_model_name": "HTMLModel",
            "_view_count": null,
            "_view_module": "@jupyter-widgets/controls",
            "_view_module_version": "1.5.0",
            "_view_name": "HTMLView",
            "description": "",
            "description_tooltip": null,
            "layout": "IPY_MODEL_2240795e95584688ad5330e0bb290bd9",
            "placeholder": "​",
            "style": "IPY_MODEL_71861374cce542afbb32d9db729af110",
            "value": "Sanity Checking DataLoader 0: 100%"
          }
        },
        "458daea7c66b46a1835103f30fc55daa": {
          "model_module": "@jupyter-widgets/controls",
          "model_name": "FloatProgressModel",
          "model_module_version": "1.5.0",
          "state": {
            "_dom_classes": [],
            "_model_module": "@jupyter-widgets/controls",
            "_model_module_version": "1.5.0",
            "_model_name": "FloatProgressModel",
            "_view_count": null,
            "_view_module": "@jupyter-widgets/controls",
            "_view_module_version": "1.5.0",
            "_view_name": "ProgressView",
            "bar_style": "",
            "description": "",
            "description_tooltip": null,
            "layout": "IPY_MODEL_32b7624774ed44239ba57cf33114bc96",
            "max": 2,
            "min": 0,
            "orientation": "horizontal",
            "style": "IPY_MODEL_ef04794aa5e641e7a85f11c75dd184b2",
            "value": 2
          }
        },
        "bd702e62afa44f2193a847e8cdaa3ce3": {
          "model_module": "@jupyter-widgets/controls",
          "model_name": "HTMLModel",
          "model_module_version": "1.5.0",
          "state": {
            "_dom_classes": [],
            "_model_module": "@jupyter-widgets/controls",
            "_model_module_version": "1.5.0",
            "_model_name": "HTMLModel",
            "_view_count": null,
            "_view_module": "@jupyter-widgets/controls",
            "_view_module_version": "1.5.0",
            "_view_name": "HTMLView",
            "description": "",
            "description_tooltip": null,
            "layout": "IPY_MODEL_e620f123e830495c9cd41d6d87f96d38",
            "placeholder": "​",
            "style": "IPY_MODEL_b59305642ee04d87ac88302deae2123a",
            "value": " 2/2 [00:03&lt;00:00,  1.93s/it]"
          }
        },
        "9c703e56f9844ba1b30b557c94a46c19": {
          "model_module": "@jupyter-widgets/base",
          "model_name": "LayoutModel",
          "model_module_version": "1.2.0",
          "state": {
            "_model_module": "@jupyter-widgets/base",
            "_model_module_version": "1.2.0",
            "_model_name": "LayoutModel",
            "_view_count": null,
            "_view_module": "@jupyter-widgets/base",
            "_view_module_version": "1.2.0",
            "_view_name": "LayoutView",
            "align_content": null,
            "align_items": null,
            "align_self": null,
            "border": null,
            "bottom": null,
            "display": "inline-flex",
            "flex": null,
            "flex_flow": "row wrap",
            "grid_area": null,
            "grid_auto_columns": null,
            "grid_auto_flow": null,
            "grid_auto_rows": null,
            "grid_column": null,
            "grid_gap": null,
            "grid_row": null,
            "grid_template_areas": null,
            "grid_template_columns": null,
            "grid_template_rows": null,
            "height": null,
            "justify_content": null,
            "justify_items": null,
            "left": null,
            "margin": null,
            "max_height": null,
            "max_width": null,
            "min_height": null,
            "min_width": null,
            "object_fit": null,
            "object_position": null,
            "order": null,
            "overflow": null,
            "overflow_x": null,
            "overflow_y": null,
            "padding": null,
            "right": null,
            "top": null,
            "visibility": "hidden",
            "width": "100%"
          }
        },
        "2240795e95584688ad5330e0bb290bd9": {
          "model_module": "@jupyter-widgets/base",
          "model_name": "LayoutModel",
          "model_module_version": "1.2.0",
          "state": {
            "_model_module": "@jupyter-widgets/base",
            "_model_module_version": "1.2.0",
            "_model_name": "LayoutModel",
            "_view_count": null,
            "_view_module": "@jupyter-widgets/base",
            "_view_module_version": "1.2.0",
            "_view_name": "LayoutView",
            "align_content": null,
            "align_items": null,
            "align_self": null,
            "border": null,
            "bottom": null,
            "display": null,
            "flex": null,
            "flex_flow": null,
            "grid_area": null,
            "grid_auto_columns": null,
            "grid_auto_flow": null,
            "grid_auto_rows": null,
            "grid_column": null,
            "grid_gap": null,
            "grid_row": null,
            "grid_template_areas": null,
            "grid_template_columns": null,
            "grid_template_rows": null,
            "height": null,
            "justify_content": null,
            "justify_items": null,
            "left": null,
            "margin": null,
            "max_height": null,
            "max_width": null,
            "min_height": null,
            "min_width": null,
            "object_fit": null,
            "object_position": null,
            "order": null,
            "overflow": null,
            "overflow_x": null,
            "overflow_y": null,
            "padding": null,
            "right": null,
            "top": null,
            "visibility": null,
            "width": null
          }
        },
        "71861374cce542afbb32d9db729af110": {
          "model_module": "@jupyter-widgets/controls",
          "model_name": "DescriptionStyleModel",
          "model_module_version": "1.5.0",
          "state": {
            "_model_module": "@jupyter-widgets/controls",
            "_model_module_version": "1.5.0",
            "_model_name": "DescriptionStyleModel",
            "_view_count": null,
            "_view_module": "@jupyter-widgets/base",
            "_view_module_version": "1.2.0",
            "_view_name": "StyleView",
            "description_width": ""
          }
        },
        "32b7624774ed44239ba57cf33114bc96": {
          "model_module": "@jupyter-widgets/base",
          "model_name": "LayoutModel",
          "model_module_version": "1.2.0",
          "state": {
            "_model_module": "@jupyter-widgets/base",
            "_model_module_version": "1.2.0",
            "_model_name": "LayoutModel",
            "_view_count": null,
            "_view_module": "@jupyter-widgets/base",
            "_view_module_version": "1.2.0",
            "_view_name": "LayoutView",
            "align_content": null,
            "align_items": null,
            "align_self": null,
            "border": null,
            "bottom": null,
            "display": null,
            "flex": "2",
            "flex_flow": null,
            "grid_area": null,
            "grid_auto_columns": null,
            "grid_auto_flow": null,
            "grid_auto_rows": null,
            "grid_column": null,
            "grid_gap": null,
            "grid_row": null,
            "grid_template_areas": null,
            "grid_template_columns": null,
            "grid_template_rows": null,
            "height": null,
            "justify_content": null,
            "justify_items": null,
            "left": null,
            "margin": null,
            "max_height": null,
            "max_width": null,
            "min_height": null,
            "min_width": null,
            "object_fit": null,
            "object_position": null,
            "order": null,
            "overflow": null,
            "overflow_x": null,
            "overflow_y": null,
            "padding": null,
            "right": null,
            "top": null,
            "visibility": null,
            "width": null
          }
        },
        "ef04794aa5e641e7a85f11c75dd184b2": {
          "model_module": "@jupyter-widgets/controls",
          "model_name": "ProgressStyleModel",
          "model_module_version": "1.5.0",
          "state": {
            "_model_module": "@jupyter-widgets/controls",
            "_model_module_version": "1.5.0",
            "_model_name": "ProgressStyleModel",
            "_view_count": null,
            "_view_module": "@jupyter-widgets/base",
            "_view_module_version": "1.2.0",
            "_view_name": "StyleView",
            "bar_color": null,
            "description_width": ""
          }
        },
        "e620f123e830495c9cd41d6d87f96d38": {
          "model_module": "@jupyter-widgets/base",
          "model_name": "LayoutModel",
          "model_module_version": "1.2.0",
          "state": {
            "_model_module": "@jupyter-widgets/base",
            "_model_module_version": "1.2.0",
            "_model_name": "LayoutModel",
            "_view_count": null,
            "_view_module": "@jupyter-widgets/base",
            "_view_module_version": "1.2.0",
            "_view_name": "LayoutView",
            "align_content": null,
            "align_items": null,
            "align_self": null,
            "border": null,
            "bottom": null,
            "display": null,
            "flex": null,
            "flex_flow": null,
            "grid_area": null,
            "grid_auto_columns": null,
            "grid_auto_flow": null,
            "grid_auto_rows": null,
            "grid_column": null,
            "grid_gap": null,
            "grid_row": null,
            "grid_template_areas": null,
            "grid_template_columns": null,
            "grid_template_rows": null,
            "height": null,
            "justify_content": null,
            "justify_items": null,
            "left": null,
            "margin": null,
            "max_height": null,
            "max_width": null,
            "min_height": null,
            "min_width": null,
            "object_fit": null,
            "object_position": null,
            "order": null,
            "overflow": null,
            "overflow_x": null,
            "overflow_y": null,
            "padding": null,
            "right": null,
            "top": null,
            "visibility": null,
            "width": null
          }
        },
        "b59305642ee04d87ac88302deae2123a": {
          "model_module": "@jupyter-widgets/controls",
          "model_name": "DescriptionStyleModel",
          "model_module_version": "1.5.0",
          "state": {
            "_model_module": "@jupyter-widgets/controls",
            "_model_module_version": "1.5.0",
            "_model_name": "DescriptionStyleModel",
            "_view_count": null,
            "_view_module": "@jupyter-widgets/base",
            "_view_module_version": "1.2.0",
            "_view_name": "StyleView",
            "description_width": ""
          }
        },
        "918fe6fab3ae4e84b322a886d9568393": {
          "model_module": "@jupyter-widgets/controls",
          "model_name": "HBoxModel",
          "model_module_version": "1.5.0",
          "state": {
            "_dom_classes": [],
            "_model_module": "@jupyter-widgets/controls",
            "_model_module_version": "1.5.0",
            "_model_name": "HBoxModel",
            "_view_count": null,
            "_view_module": "@jupyter-widgets/controls",
            "_view_module_version": "1.5.0",
            "_view_name": "HBoxView",
            "box_style": "",
            "children": [
              "IPY_MODEL_0b332f20d85c4eb3bfa8b28df4c2a1b0",
              "IPY_MODEL_a3b07f36093d4c269f4f69c938d42692",
              "IPY_MODEL_271c71c369834f24839ddb84c84d7e22"
            ],
            "layout": "IPY_MODEL_cc9ef97325d44ed3ba80dc5d9e6e681e"
          }
        },
        "0b332f20d85c4eb3bfa8b28df4c2a1b0": {
          "model_module": "@jupyter-widgets/controls",
          "model_name": "HTMLModel",
          "model_module_version": "1.5.0",
          "state": {
            "_dom_classes": [],
            "_model_module": "@jupyter-widgets/controls",
            "_model_module_version": "1.5.0",
            "_model_name": "HTMLModel",
            "_view_count": null,
            "_view_module": "@jupyter-widgets/controls",
            "_view_module_version": "1.5.0",
            "_view_name": "HTMLView",
            "description": "",
            "description_tooltip": null,
            "layout": "IPY_MODEL_cb35ee19203b4ce5bff694a875da0360",
            "placeholder": "​",
            "style": "IPY_MODEL_7d0717d13ed24d45b434b3ee5fd556e3",
            "value": "Epoch 0:   2%"
          }
        },
        "a3b07f36093d4c269f4f69c938d42692": {
          "model_module": "@jupyter-widgets/controls",
          "model_name": "FloatProgressModel",
          "model_module_version": "1.5.0",
          "state": {
            "_dom_classes": [],
            "_model_module": "@jupyter-widgets/controls",
            "_model_module_version": "1.5.0",
            "_model_name": "FloatProgressModel",
            "_view_count": null,
            "_view_module": "@jupyter-widgets/controls",
            "_view_module_version": "1.5.0",
            "_view_name": "ProgressView",
            "bar_style": "",
            "description": "",
            "description_tooltip": null,
            "layout": "IPY_MODEL_19a1d7a0fea4485a8a3022d415a1c088",
            "max": 110,
            "min": 0,
            "orientation": "horizontal",
            "style": "IPY_MODEL_b8ce741bddff45be856f75541a7d79a4",
            "value": 2
          }
        },
        "271c71c369834f24839ddb84c84d7e22": {
          "model_module": "@jupyter-widgets/controls",
          "model_name": "HTMLModel",
          "model_module_version": "1.5.0",
          "state": {
            "_dom_classes": [],
            "_model_module": "@jupyter-widgets/controls",
            "_model_module_version": "1.5.0",
            "_model_name": "HTMLModel",
            "_view_count": null,
            "_view_module": "@jupyter-widgets/controls",
            "_view_module_version": "1.5.0",
            "_view_name": "HTMLView",
            "description": "",
            "description_tooltip": null,
            "layout": "IPY_MODEL_0806fb3b31dd4cfb82c9fa96b47a4d66",
            "placeholder": "​",
            "style": "IPY_MODEL_df93fd715e0e4253bb4b919798d991eb",
            "value": " 2/110 [00:12&lt;11:14,  6.24s/it, loss=0.961, v_num=4]"
          }
        },
        "cc9ef97325d44ed3ba80dc5d9e6e681e": {
          "model_module": "@jupyter-widgets/base",
          "model_name": "LayoutModel",
          "model_module_version": "1.2.0",
          "state": {
            "_model_module": "@jupyter-widgets/base",
            "_model_module_version": "1.2.0",
            "_model_name": "LayoutModel",
            "_view_count": null,
            "_view_module": "@jupyter-widgets/base",
            "_view_module_version": "1.2.0",
            "_view_name": "LayoutView",
            "align_content": null,
            "align_items": null,
            "align_self": null,
            "border": null,
            "bottom": null,
            "display": "inline-flex",
            "flex": null,
            "flex_flow": "row wrap",
            "grid_area": null,
            "grid_auto_columns": null,
            "grid_auto_flow": null,
            "grid_auto_rows": null,
            "grid_column": null,
            "grid_gap": null,
            "grid_row": null,
            "grid_template_areas": null,
            "grid_template_columns": null,
            "grid_template_rows": null,
            "height": null,
            "justify_content": null,
            "justify_items": null,
            "left": null,
            "margin": null,
            "max_height": null,
            "max_width": null,
            "min_height": null,
            "min_width": null,
            "object_fit": null,
            "object_position": null,
            "order": null,
            "overflow": null,
            "overflow_x": null,
            "overflow_y": null,
            "padding": null,
            "right": null,
            "top": null,
            "visibility": null,
            "width": "100%"
          }
        },
        "cb35ee19203b4ce5bff694a875da0360": {
          "model_module": "@jupyter-widgets/base",
          "model_name": "LayoutModel",
          "model_module_version": "1.2.0",
          "state": {
            "_model_module": "@jupyter-widgets/base",
            "_model_module_version": "1.2.0",
            "_model_name": "LayoutModel",
            "_view_count": null,
            "_view_module": "@jupyter-widgets/base",
            "_view_module_version": "1.2.0",
            "_view_name": "LayoutView",
            "align_content": null,
            "align_items": null,
            "align_self": null,
            "border": null,
            "bottom": null,
            "display": null,
            "flex": null,
            "flex_flow": null,
            "grid_area": null,
            "grid_auto_columns": null,
            "grid_auto_flow": null,
            "grid_auto_rows": null,
            "grid_column": null,
            "grid_gap": null,
            "grid_row": null,
            "grid_template_areas": null,
            "grid_template_columns": null,
            "grid_template_rows": null,
            "height": null,
            "justify_content": null,
            "justify_items": null,
            "left": null,
            "margin": null,
            "max_height": null,
            "max_width": null,
            "min_height": null,
            "min_width": null,
            "object_fit": null,
            "object_position": null,
            "order": null,
            "overflow": null,
            "overflow_x": null,
            "overflow_y": null,
            "padding": null,
            "right": null,
            "top": null,
            "visibility": null,
            "width": null
          }
        },
        "7d0717d13ed24d45b434b3ee5fd556e3": {
          "model_module": "@jupyter-widgets/controls",
          "model_name": "DescriptionStyleModel",
          "model_module_version": "1.5.0",
          "state": {
            "_model_module": "@jupyter-widgets/controls",
            "_model_module_version": "1.5.0",
            "_model_name": "DescriptionStyleModel",
            "_view_count": null,
            "_view_module": "@jupyter-widgets/base",
            "_view_module_version": "1.2.0",
            "_view_name": "StyleView",
            "description_width": ""
          }
        },
        "19a1d7a0fea4485a8a3022d415a1c088": {
          "model_module": "@jupyter-widgets/base",
          "model_name": "LayoutModel",
          "model_module_version": "1.2.0",
          "state": {
            "_model_module": "@jupyter-widgets/base",
            "_model_module_version": "1.2.0",
            "_model_name": "LayoutModel",
            "_view_count": null,
            "_view_module": "@jupyter-widgets/base",
            "_view_module_version": "1.2.0",
            "_view_name": "LayoutView",
            "align_content": null,
            "align_items": null,
            "align_self": null,
            "border": null,
            "bottom": null,
            "display": null,
            "flex": "2",
            "flex_flow": null,
            "grid_area": null,
            "grid_auto_columns": null,
            "grid_auto_flow": null,
            "grid_auto_rows": null,
            "grid_column": null,
            "grid_gap": null,
            "grid_row": null,
            "grid_template_areas": null,
            "grid_template_columns": null,
            "grid_template_rows": null,
            "height": null,
            "justify_content": null,
            "justify_items": null,
            "left": null,
            "margin": null,
            "max_height": null,
            "max_width": null,
            "min_height": null,
            "min_width": null,
            "object_fit": null,
            "object_position": null,
            "order": null,
            "overflow": null,
            "overflow_x": null,
            "overflow_y": null,
            "padding": null,
            "right": null,
            "top": null,
            "visibility": null,
            "width": null
          }
        },
        "b8ce741bddff45be856f75541a7d79a4": {
          "model_module": "@jupyter-widgets/controls",
          "model_name": "ProgressStyleModel",
          "model_module_version": "1.5.0",
          "state": {
            "_model_module": "@jupyter-widgets/controls",
            "_model_module_version": "1.5.0",
            "_model_name": "ProgressStyleModel",
            "_view_count": null,
            "_view_module": "@jupyter-widgets/base",
            "_view_module_version": "1.2.0",
            "_view_name": "StyleView",
            "bar_color": null,
            "description_width": ""
          }
        },
        "0806fb3b31dd4cfb82c9fa96b47a4d66": {
          "model_module": "@jupyter-widgets/base",
          "model_name": "LayoutModel",
          "model_module_version": "1.2.0",
          "state": {
            "_model_module": "@jupyter-widgets/base",
            "_model_module_version": "1.2.0",
            "_model_name": "LayoutModel",
            "_view_count": null,
            "_view_module": "@jupyter-widgets/base",
            "_view_module_version": "1.2.0",
            "_view_name": "LayoutView",
            "align_content": null,
            "align_items": null,
            "align_self": null,
            "border": null,
            "bottom": null,
            "display": null,
            "flex": null,
            "flex_flow": null,
            "grid_area": null,
            "grid_auto_columns": null,
            "grid_auto_flow": null,
            "grid_auto_rows": null,
            "grid_column": null,
            "grid_gap": null,
            "grid_row": null,
            "grid_template_areas": null,
            "grid_template_columns": null,
            "grid_template_rows": null,
            "height": null,
            "justify_content": null,
            "justify_items": null,
            "left": null,
            "margin": null,
            "max_height": null,
            "max_width": null,
            "min_height": null,
            "min_width": null,
            "object_fit": null,
            "object_position": null,
            "order": null,
            "overflow": null,
            "overflow_x": null,
            "overflow_y": null,
            "padding": null,
            "right": null,
            "top": null,
            "visibility": null,
            "width": null
          }
        },
        "df93fd715e0e4253bb4b919798d991eb": {
          "model_module": "@jupyter-widgets/controls",
          "model_name": "DescriptionStyleModel",
          "model_module_version": "1.5.0",
          "state": {
            "_model_module": "@jupyter-widgets/controls",
            "_model_module_version": "1.5.0",
            "_model_name": "DescriptionStyleModel",
            "_view_count": null,
            "_view_module": "@jupyter-widgets/base",
            "_view_module_version": "1.2.0",
            "_view_name": "StyleView",
            "description_width": ""
          }
        },
        "1224bf8a950a4e35bfa6c714dcf7541c": {
          "model_module": "@jupyter-widgets/controls",
          "model_name": "HBoxModel",
          "model_module_version": "1.5.0",
          "state": {
            "_dom_classes": [],
            "_model_module": "@jupyter-widgets/controls",
            "_model_module_version": "1.5.0",
            "_model_name": "HBoxModel",
            "_view_count": null,
            "_view_module": "@jupyter-widgets/controls",
            "_view_module_version": "1.5.0",
            "_view_name": "HBoxView",
            "box_style": "",
            "children": [
              "IPY_MODEL_2a4b0aee592a4003802dd1d3b1e0fb63",
              "IPY_MODEL_013ce72e1bef40d3a9c5fc71ac253535",
              "IPY_MODEL_8e9e607cd97a4755af5fa1ae4fd495b1"
            ],
            "layout": "IPY_MODEL_6e92f10377c949b6a8ea777cd280a5b1"
          }
        },
        "2a4b0aee592a4003802dd1d3b1e0fb63": {
          "model_module": "@jupyter-widgets/controls",
          "model_name": "HTMLModel",
          "model_module_version": "1.5.0",
          "state": {
            "_dom_classes": [],
            "_model_module": "@jupyter-widgets/controls",
            "_model_module_version": "1.5.0",
            "_model_name": "HTMLModel",
            "_view_count": null,
            "_view_module": "@jupyter-widgets/controls",
            "_view_module_version": "1.5.0",
            "_view_name": "HTMLView",
            "description": "",
            "description_tooltip": null,
            "layout": "IPY_MODEL_c283d3a9948c46cfb9a623a0218cae4d",
            "placeholder": "​",
            "style": "IPY_MODEL_db854708a1bc4e9580e11c4380c8f682",
            "value": "100%"
          }
        },
        "013ce72e1bef40d3a9c5fc71ac253535": {
          "model_module": "@jupyter-widgets/controls",
          "model_name": "FloatProgressModel",
          "model_module_version": "1.5.0",
          "state": {
            "_dom_classes": [],
            "_model_module": "@jupyter-widgets/controls",
            "_model_module_version": "1.5.0",
            "_model_name": "FloatProgressModel",
            "_view_count": null,
            "_view_module": "@jupyter-widgets/controls",
            "_view_module_version": "1.5.0",
            "_view_name": "ProgressView",
            "bar_style": "",
            "description": "",
            "description_tooltip": null,
            "layout": "IPY_MODEL_b7d758cf11244681b686e2a1188c19aa",
            "max": 8,
            "min": 0,
            "orientation": "horizontal",
            "style": "IPY_MODEL_7c227994c2884e2ca8bfd1ab8944ed94",
            "value": 8
          }
        },
        "8e9e607cd97a4755af5fa1ae4fd495b1": {
          "model_module": "@jupyter-widgets/controls",
          "model_name": "HTMLModel",
          "model_module_version": "1.5.0",
          "state": {
            "_dom_classes": [],
            "_model_module": "@jupyter-widgets/controls",
            "_model_module_version": "1.5.0",
            "_model_name": "HTMLModel",
            "_view_count": null,
            "_view_module": "@jupyter-widgets/controls",
            "_view_module_version": "1.5.0",
            "_view_name": "HTMLView",
            "description": "",
            "description_tooltip": null,
            "layout": "IPY_MODEL_ea0e3b2958df4bcc9d5e600a9231bc12",
            "placeholder": "​",
            "style": "IPY_MODEL_43f7f7c9d24242429af9ed06e196d30f",
            "value": " 8/8 [00:15&lt;00:00,  1.53s/it]"
          }
        },
        "6e92f10377c949b6a8ea777cd280a5b1": {
          "model_module": "@jupyter-widgets/base",
          "model_name": "LayoutModel",
          "model_module_version": "1.2.0",
          "state": {
            "_model_module": "@jupyter-widgets/base",
            "_model_module_version": "1.2.0",
            "_model_name": "LayoutModel",
            "_view_count": null,
            "_view_module": "@jupyter-widgets/base",
            "_view_module_version": "1.2.0",
            "_view_name": "LayoutView",
            "align_content": null,
            "align_items": null,
            "align_self": null,
            "border": null,
            "bottom": null,
            "display": null,
            "flex": null,
            "flex_flow": null,
            "grid_area": null,
            "grid_auto_columns": null,
            "grid_auto_flow": null,
            "grid_auto_rows": null,
            "grid_column": null,
            "grid_gap": null,
            "grid_row": null,
            "grid_template_areas": null,
            "grid_template_columns": null,
            "grid_template_rows": null,
            "height": null,
            "justify_content": null,
            "justify_items": null,
            "left": null,
            "margin": null,
            "max_height": null,
            "max_width": null,
            "min_height": null,
            "min_width": null,
            "object_fit": null,
            "object_position": null,
            "order": null,
            "overflow": null,
            "overflow_x": null,
            "overflow_y": null,
            "padding": null,
            "right": null,
            "top": null,
            "visibility": null,
            "width": null
          }
        },
        "c283d3a9948c46cfb9a623a0218cae4d": {
          "model_module": "@jupyter-widgets/base",
          "model_name": "LayoutModel",
          "model_module_version": "1.2.0",
          "state": {
            "_model_module": "@jupyter-widgets/base",
            "_model_module_version": "1.2.0",
            "_model_name": "LayoutModel",
            "_view_count": null,
            "_view_module": "@jupyter-widgets/base",
            "_view_module_version": "1.2.0",
            "_view_name": "LayoutView",
            "align_content": null,
            "align_items": null,
            "align_self": null,
            "border": null,
            "bottom": null,
            "display": null,
            "flex": null,
            "flex_flow": null,
            "grid_area": null,
            "grid_auto_columns": null,
            "grid_auto_flow": null,
            "grid_auto_rows": null,
            "grid_column": null,
            "grid_gap": null,
            "grid_row": null,
            "grid_template_areas": null,
            "grid_template_columns": null,
            "grid_template_rows": null,
            "height": null,
            "justify_content": null,
            "justify_items": null,
            "left": null,
            "margin": null,
            "max_height": null,
            "max_width": null,
            "min_height": null,
            "min_width": null,
            "object_fit": null,
            "object_position": null,
            "order": null,
            "overflow": null,
            "overflow_x": null,
            "overflow_y": null,
            "padding": null,
            "right": null,
            "top": null,
            "visibility": null,
            "width": null
          }
        },
        "db854708a1bc4e9580e11c4380c8f682": {
          "model_module": "@jupyter-widgets/controls",
          "model_name": "DescriptionStyleModel",
          "model_module_version": "1.5.0",
          "state": {
            "_model_module": "@jupyter-widgets/controls",
            "_model_module_version": "1.5.0",
            "_model_name": "DescriptionStyleModel",
            "_view_count": null,
            "_view_module": "@jupyter-widgets/base",
            "_view_module_version": "1.2.0",
            "_view_name": "StyleView",
            "description_width": ""
          }
        },
        "b7d758cf11244681b686e2a1188c19aa": {
          "model_module": "@jupyter-widgets/base",
          "model_name": "LayoutModel",
          "model_module_version": "1.2.0",
          "state": {
            "_model_module": "@jupyter-widgets/base",
            "_model_module_version": "1.2.0",
            "_model_name": "LayoutModel",
            "_view_count": null,
            "_view_module": "@jupyter-widgets/base",
            "_view_module_version": "1.2.0",
            "_view_name": "LayoutView",
            "align_content": null,
            "align_items": null,
            "align_self": null,
            "border": null,
            "bottom": null,
            "display": null,
            "flex": null,
            "flex_flow": null,
            "grid_area": null,
            "grid_auto_columns": null,
            "grid_auto_flow": null,
            "grid_auto_rows": null,
            "grid_column": null,
            "grid_gap": null,
            "grid_row": null,
            "grid_template_areas": null,
            "grid_template_columns": null,
            "grid_template_rows": null,
            "height": null,
            "justify_content": null,
            "justify_items": null,
            "left": null,
            "margin": null,
            "max_height": null,
            "max_width": null,
            "min_height": null,
            "min_width": null,
            "object_fit": null,
            "object_position": null,
            "order": null,
            "overflow": null,
            "overflow_x": null,
            "overflow_y": null,
            "padding": null,
            "right": null,
            "top": null,
            "visibility": null,
            "width": null
          }
        },
        "7c227994c2884e2ca8bfd1ab8944ed94": {
          "model_module": "@jupyter-widgets/controls",
          "model_name": "ProgressStyleModel",
          "model_module_version": "1.5.0",
          "state": {
            "_model_module": "@jupyter-widgets/controls",
            "_model_module_version": "1.5.0",
            "_model_name": "ProgressStyleModel",
            "_view_count": null,
            "_view_module": "@jupyter-widgets/base",
            "_view_module_version": "1.2.0",
            "_view_name": "StyleView",
            "bar_color": null,
            "description_width": ""
          }
        },
        "ea0e3b2958df4bcc9d5e600a9231bc12": {
          "model_module": "@jupyter-widgets/base",
          "model_name": "LayoutModel",
          "model_module_version": "1.2.0",
          "state": {
            "_model_module": "@jupyter-widgets/base",
            "_model_module_version": "1.2.0",
            "_model_name": "LayoutModel",
            "_view_count": null,
            "_view_module": "@jupyter-widgets/base",
            "_view_module_version": "1.2.0",
            "_view_name": "LayoutView",
            "align_content": null,
            "align_items": null,
            "align_self": null,
            "border": null,
            "bottom": null,
            "display": null,
            "flex": null,
            "flex_flow": null,
            "grid_area": null,
            "grid_auto_columns": null,
            "grid_auto_flow": null,
            "grid_auto_rows": null,
            "grid_column": null,
            "grid_gap": null,
            "grid_row": null,
            "grid_template_areas": null,
            "grid_template_columns": null,
            "grid_template_rows": null,
            "height": null,
            "justify_content": null,
            "justify_items": null,
            "left": null,
            "margin": null,
            "max_height": null,
            "max_width": null,
            "min_height": null,
            "min_width": null,
            "object_fit": null,
            "object_position": null,
            "order": null,
            "overflow": null,
            "overflow_x": null,
            "overflow_y": null,
            "padding": null,
            "right": null,
            "top": null,
            "visibility": null,
            "width": null
          }
        },
        "43f7f7c9d24242429af9ed06e196d30f": {
          "model_module": "@jupyter-widgets/controls",
          "model_name": "DescriptionStyleModel",
          "model_module_version": "1.5.0",
          "state": {
            "_model_module": "@jupyter-widgets/controls",
            "_model_module_version": "1.5.0",
            "_model_name": "DescriptionStyleModel",
            "_view_count": null,
            "_view_module": "@jupyter-widgets/base",
            "_view_module_version": "1.2.0",
            "_view_name": "StyleView",
            "description_width": ""
          }
        }
      }
    },
    "colab": {
      "provenance": []
    }
  },
  "nbformat": 4,
  "nbformat_minor": 5
}