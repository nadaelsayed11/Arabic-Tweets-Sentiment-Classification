{
  "cells": [
    {
      "cell_type": "markdown",
      "id": "fallen-birthday",
      "metadata": {
        "id": "fallen-birthday",
        "papermill": {
          "duration": 0.024168,
          "end_time": "2022-03-13T18:49:53.733437",
          "exception": false,
          "start_time": "2022-03-13T18:49:53.709269",
          "status": "completed"
        },
        "tags": []
      },
      "source": [
        "# About This Project"
      ]
    },
    {
      "cell_type": "markdown",
      "id": "productive-struggle",
      "metadata": {
        "id": "productive-struggle",
        "papermill": {
          "duration": 0.022236,
          "end_time": "2022-03-13T18:49:53.778332",
          "exception": false,
          "start_time": "2022-03-13T18:49:53.756096",
          "status": "completed"
        },
        "tags": []
      },
      "source": [
        "# Bert Model and Tokenizers"
      ]
    },
    {
      "cell_type": "markdown",
      "id": "noted-dealer",
      "metadata": {
        "id": "noted-dealer",
        "papermill": {
          "duration": 0.021324,
          "end_time": "2022-03-13T18:49:54.002338",
          "exception": false,
          "start_time": "2022-03-13T18:49:53.981014",
          "status": "completed"
        },
        "tags": []
      },
      "source": [
        "Hugginface provides pretrained models and architecture into a single lines\n",
        "\n",
        "* tokenizer = AutoTokenizer.from_pretrained(\"asafaya/bert-base-arabic\")\n",
        "* model = AutoModel.from_pretrained(\"asafaya/bert-base-arabic\")"
      ]
    },
    {
      "cell_type": "markdown",
      "id": "outdoor-basketball",
      "metadata": {
        "id": "outdoor-basketball",
        "papermill": {
          "duration": 0.022657,
          "end_time": "2022-03-13T18:49:54.047963",
          "exception": false,
          "start_time": "2022-03-13T18:49:54.025306",
          "status": "completed"
        },
        "tags": []
      },
      "source": [
        "# Look inside the dataset files"
      ]
    },
    {
      "cell_type": "markdown",
      "id": "gorgeous-electron",
      "metadata": {
        "id": "gorgeous-electron",
        "papermill": {
          "duration": 0.022528,
          "end_time": "2022-03-13T18:49:54.093333",
          "exception": false,
          "start_time": "2022-03-13T18:49:54.070805",
          "status": "completed"
        },
        "tags": []
      },
      "source": [
        "Dataset files are already divided into train and test dataset. "
      ]
    },
    {
      "cell_type": "code",
      "execution_count": 5,
      "id": "congressional-inflation",
      "metadata": {
        "execution": {
          "iopub.execute_input": "2022-03-13T18:49:54.146769Z",
          "iopub.status.busy": "2022-03-13T18:49:54.145851Z",
          "iopub.status.idle": "2022-03-13T18:49:57.470086Z",
          "shell.execute_reply": "2022-03-13T18:49:57.468661Z",
          "shell.execute_reply.started": "2022-03-13T17:50:29.020534Z"
        },
        "id": "congressional-inflation",
        "papermill": {
          "duration": 3.354141,
          "end_time": "2022-03-13T18:49:57.470271",
          "exception": false,
          "start_time": "2022-03-13T18:49:54.116130",
          "status": "completed"
        },
        "tags": []
      },
      "outputs": [],
      "source": [
        "import os\n",
        "import sys\n",
        "\n",
        "import pandas as pd \n",
        "import numpy as np\n",
        "import seaborn as sns\n",
        "import matplotlib.pyplot as plt\n",
        "from pylab import rcParams\n",
        "from matplotlib import rc\n",
        "import joblib\n",
        "\n",
        "from transformers import AutoTokenizer, AutoModel\n",
        "import torch\n",
        "import pytorch_lightning as pl\n",
        "\n",
        "from torch.utils.data import Dataset, DataLoader\n",
        "from sklearn.model_selection import train_test_split\n",
        "from sklearn.preprocessing import LabelEncoder\n",
        "import torch\n",
        "from torch import nn,optim\n",
        "\n",
        "from transformers import AutoTokenizer, AutoModel\n",
        "\n",
        "from sklearn.metrics import roc_auc_score, accuracy_score\n",
        "from sklearn.model_selection import train_test_split"
      ]
    },
    {
      "cell_type": "code",
      "execution_count": 6,
      "id": "_VdjrHScMNc0",
      "metadata": {
        "colab": {
          "base_uri": "https://localhost:8080/"
        },
        "id": "_VdjrHScMNc0",
        "outputId": "445bf9d7-9f1f-4395-bfc4-d94de4766420"
      },
      "outputs": [
        {
          "name": "stdout",
          "output_type": "stream",
          "text": [
            "Looking in indexes: https://pypi.org/simple, https://us-python.pkg.dev/colab-wheels/public/simple/\n",
            "Requirement already satisfied: transformers in /usr/local/lib/python3.8/dist-packages (4.25.1)\n",
            "Requirement already satisfied: requests in /usr/local/lib/python3.8/dist-packages (from transformers) (2.23.0)\n",
            "Requirement already satisfied: regex!=2019.12.17 in /usr/local/lib/python3.8/dist-packages (from transformers) (2022.6.2)\n",
            "Requirement already satisfied: filelock in /usr/local/lib/python3.8/dist-packages (from transformers) (3.8.2)\n",
            "Requirement already satisfied: numpy>=1.17 in /usr/local/lib/python3.8/dist-packages (from transformers) (1.21.6)\n",
            "Requirement already satisfied: huggingface-hub<1.0,>=0.10.0 in /usr/local/lib/python3.8/dist-packages (from transformers) (0.11.1)\n",
            "Requirement already satisfied: pyyaml>=5.1 in /usr/local/lib/python3.8/dist-packages (from transformers) (6.0)\n",
            "Requirement already satisfied: tqdm>=4.27 in /usr/local/lib/python3.8/dist-packages (from transformers) (4.64.1)\n",
            "Requirement already satisfied: tokenizers!=0.11.3,<0.14,>=0.11.1 in /usr/local/lib/python3.8/dist-packages (from transformers) (0.13.2)\n",
            "Requirement already satisfied: packaging>=20.0 in /usr/local/lib/python3.8/dist-packages (from transformers) (21.3)\n",
            "Requirement already satisfied: typing-extensions>=3.7.4.3 in /usr/local/lib/python3.8/dist-packages (from huggingface-hub<1.0,>=0.10.0->transformers) (4.4.0)\n",
            "Requirement already satisfied: pyparsing!=3.0.5,>=2.0.2 in /usr/local/lib/python3.8/dist-packages (from packaging>=20.0->transformers) (3.0.9)\n",
            "Requirement already satisfied: urllib3!=1.25.0,!=1.25.1,<1.26,>=1.21.1 in /usr/local/lib/python3.8/dist-packages (from requests->transformers) (1.24.3)\n",
            "Requirement already satisfied: idna<3,>=2.5 in /usr/local/lib/python3.8/dist-packages (from requests->transformers) (2.10)\n",
            "Requirement already satisfied: certifi>=2017.4.17 in /usr/local/lib/python3.8/dist-packages (from requests->transformers) (2022.12.7)\n",
            "Requirement already satisfied: chardet<4,>=3.0.2 in /usr/local/lib/python3.8/dist-packages (from requests->transformers) (3.0.4)\n"
          ]
        }
      ],
      "source": [
        "pip install transformers\n",
        "pip install pytorch_lightning"
      ]
    },
    {
      "cell_type": "markdown",
      "id": "fuzzy-marble",
      "metadata": {
        "id": "fuzzy-marble",
        "papermill": {
          "duration": 0.023796,
          "end_time": "2022-03-13T18:50:01.302852",
          "exception": false,
          "start_time": "2022-03-13T18:50:01.279056",
          "status": "completed"
        },
        "tags": []
      },
      "source": [
        "# Dataset Module"
      ]
    },
    {
      "cell_type": "markdown",
      "id": "colonial-tobacco",
      "metadata": {
        "id": "colonial-tobacco",
        "papermill": {
          "duration": 0.022907,
          "end_time": "2022-03-13T18:50:02.740028",
          "exception": false,
          "start_time": "2022-03-13T18:50:02.717121",
          "status": "completed"
        },
        "tags": []
      },
      "source": [
        "Feature Engieering and data files"
      ]
    },
    {
      "cell_type": "code",
      "execution_count": 17,
      "id": "marine-neighborhood",
      "metadata": {
        "execution": {
          "iopub.execute_input": "2022-03-13T18:50:05.831356Z",
          "iopub.status.busy": "2022-03-13T18:50:05.830335Z",
          "iopub.status.idle": "2022-03-13T18:50:05.840093Z",
          "shell.execute_reply": "2022-03-13T18:50:05.841396Z",
          "shell.execute_reply.started": "2022-03-13T17:50:36.561295Z"
        },
        "id": "marine-neighborhood",
        "papermill": {
          "duration": 0.063504,
          "end_time": "2022-03-13T18:50:05.841642",
          "exception": false,
          "start_time": "2022-03-13T18:50:05.778138",
          "status": "completed"
        },
        "tags": []
      },
      "outputs": [],
      "source": [
        "class ArabicDataset(Dataset):\n",
        "    def __init__(self,data,max_len,model_type=\"Mini\"):\n",
        "        super().__init__()\n",
        "        self.texts = data[\"text\"].values\n",
        "        self.max_len = max_len\n",
        "        model = {\"Mini\": \"asafaya/bert-mini-arabic\",\n",
        "                \"Medium\": \"asafaya/bert-medium-arabic\",\n",
        "                \"Base\": \"asafaya/bert-base-arabic\",\n",
        "                \"Large\": \"asafaya/bert-large-arabic\",\n",
        "                 \"Twitter\":\"aubmindlab/bert-base-arabertv02-twitter\"}\n",
        "        self.tokenizer = AutoTokenizer.from_pretrained(model[model_type])\n",
        "    \n",
        "    def __len__(self):\n",
        "        return len(self.texts)\n",
        "    \n",
        "    def __getitem__(self,idx):\n",
        "        text = \" \".join(self.texts[idx].split())\n",
        "        inputs = self.tokenizer(text,padding='max_length',\n",
        "                                max_length=self.max_len,truncation=True,return_tensors=\"pt\")\n",
        "        return {\n",
        "            \"inputs\":{\"input_ids\":inputs[\"input_ids\"][0],\n",
        "                      \"token_type_ids\":inputs[\"token_type_ids\"][0],\n",
        "                      \"attention_mask\":inputs[\"attention_mask\"][0],\n",
        "                     }\n",
        "        }\n",
        "        \n"
      ]
    },
    {
      "cell_type": "markdown",
      "id": "individual-turkish",
      "metadata": {
        "id": "individual-turkish",
        "papermill": {
          "duration": 0.043526,
          "end_time": "2022-03-13T18:50:05.932056",
          "exception": false,
          "start_time": "2022-03-13T18:50:05.888530",
          "status": "completed"
        },
        "tags": []
      },
      "source": [
        "Peeking dataset module"
      ]
    },
    {
      "cell_type": "code",
      "execution_count": 18,
      "id": "exempt-button",
      "metadata": {
        "execution": {
          "iopub.execute_input": "2022-03-13T18:50:06.125980Z",
          "iopub.status.busy": "2022-03-13T18:50:06.124988Z",
          "iopub.status.idle": "2022-03-13T18:50:06.129528Z",
          "shell.execute_reply": "2022-03-13T18:50:06.130278Z",
          "shell.execute_reply.started": "2022-03-13T17:50:36.583619Z"
        },
        "id": "exempt-button",
        "papermill": {
          "duration": 0.068873,
          "end_time": "2022-03-13T18:50:06.130522",
          "exception": false,
          "start_time": "2022-03-13T18:50:06.061649",
          "status": "completed"
        },
        "tags": []
      },
      "outputs": [],
      "source": [
        "class ArabicDataModule(pl.LightningDataModule):\n",
        "    def __init__(self,test_path,batch_size=12,max_len=100,model_type=\"Mini\"):\n",
        "        super().__init__()\n",
        "        self.test_path= test_path\n",
        "        self.batch_size = batch_size\n",
        "        self.max_len = max_len\n",
        "        self.model_type = model_type\n",
        "    \n",
        "    def setup(self,stage=None):\n",
        "        test = pd.read_csv(self.test_path)\n",
        "        self.test_dataset = ArabicDataset(data=test,max_len=self.max_len,model_type=self.model_type)\n",
        "    \n",
        "    def test_dataloader(self):\n",
        "        return DataLoader(self.test_dataset,batch_size=self.batch_size,shuffle=True,num_workers=4)\n",
        "    "
      ]
    },
    {
      "cell_type": "markdown",
      "id": "naval-cartridge",
      "metadata": {
        "id": "naval-cartridge",
        "papermill": {
          "duration": 0.03893,
          "end_time": "2022-03-13T18:50:06.377122",
          "exception": false,
          "start_time": "2022-03-13T18:50:06.338192",
          "status": "completed"
        },
        "tags": []
      },
      "source": [
        "# Bert fine tuning Module"
      ]
    },
    {
      "cell_type": "code",
      "execution_count": 38,
      "id": "4XaEdOScGRF5",
      "metadata": {
        "id": "4XaEdOScGRF5"
      },
      "outputs": [],
      "source": [
        "class ArabicBertModel(pl.LightningModule):\n",
        "    def __init__(self,output,weight,model_type=\"Mini\"):\n",
        "        super().__init__()\n",
        "        model = {\"Mini\": (\"asafaya/bert-mini-arabic\",256),\n",
        "                \"Medium\": (\"asafaya/bert-medium-arabic\",512),\n",
        "                \"Base\": (\"asafaya/bert-base-arabic\",768),\n",
        "                \"Large\": (\"asafaya/bert-large-arabic\",1024)}\n",
        "        self.bert_model = AutoModel.from_pretrained(model[model_type][0])\n",
        "        self.fc = nn.Linear(model[model_type][1],output)\n",
        "        self.weight=weight\n",
        "    \n",
        "    def forward(self,inputs):\n",
        "        out = self.bert_model(**inputs)#inputs[\"input_ids\"],inputs[\"token_type_ids\"],inputs[\"attention_mask\"])\n",
        "        pooler = out[1]\n",
        "        out = self.fc(pooler)\n",
        "        return out\n",
        "    \n",
        "    def configure_optimizers(self):\n",
        "        return optim.AdamW(self.parameters(), lr=0.0001)\n",
        "    \n",
        "    def criterion(self,output,target):\n",
        "        return nn.CrossEntropyLoss(weight=self.weight)(output,target)\n",
        "    \n",
        "    #TODO: adding metrics\n",
        "    def training_step(self,batch,batch_idx):\n",
        "        x,y = batch[\"inputs\"],batch[\"labels\"]\n",
        "        out = self(x)\n",
        "        loss = self.criterion(out,y)\n",
        "        return loss\n",
        "    \n",
        "    def validation_step(self,batch,batch_idx):\n",
        "        x,y = batch[\"inputs\"],batch[\"labels\"]\n",
        "        out = self(x)\n",
        "        loss = self.criterion(out,y)\n",
        "        return loss"
      ]
    },
    {
      "cell_type": "markdown",
      "id": "compatible-major",
      "metadata": {
        "id": "compatible-major",
        "papermill": {
          "duration": 0.032725,
          "end_time": "2022-03-13T21:51:10.166018",
          "exception": false,
          "start_time": "2022-03-13T21:51:10.133293",
          "status": "completed"
        },
        "tags": []
      },
      "source": [
        "# Results and Discussions"
      ]
    },
    {
      "cell_type": "code",
      "execution_count": 44,
      "id": "linear-dealing",
      "metadata": {
        "colab": {
          "base_uri": "https://localhost:8080/",
          "height": 277,
          "referenced_widgets": [
            "0349ad23aa7642f6a83e8c4053b08979",
            "d7ae75d62a49441b88d013a038bb9942",
            "6531d9497f0b417185c657de8d1209ee",
            "54328a6a4238474890842a3d27ade74d",
            "ae8056e37cc3405d863e7f1f03836c7e",
            "4fc750898c7c47b09cec99bdbb4e78ea",
            "1a89c114afdd4b1391a8ade87e18c553",
            "1de82dba99d64136a2f800d67c5d4c0f",
            "f42fa682828c471e9d951a430d7f4482",
            "bcefa4f9206344f78e3357657085aed1",
            "e73a98f5eb8c4e51a3c7370b4cdadcbd"
          ]
        },
        "execution": {
          "iopub.execute_input": "2022-03-13T21:51:10.245926Z",
          "iopub.status.busy": "2022-03-13T21:51:10.244611Z",
          "iopub.status.idle": "2022-03-13T21:55:09.909655Z",
          "shell.execute_reply": "2022-03-13T21:55:09.909061Z",
          "shell.execute_reply.started": "2022-03-13T18:43:58.763181Z"
        },
        "id": "linear-dealing",
        "outputId": "e85bf42c-1384-44e4-ab4e-1ae3cb3fbe5d",
        "papermill": {
          "duration": 239.710624,
          "end_time": "2022-03-13T21:55:09.909928",
          "exception": false,
          "start_time": "2022-03-13T21:51:10.199304",
          "status": "completed"
        },
        "tags": []
      },
      "outputs": [
        {
          "name": "stderr",
          "output_type": "stream",
          "text": [
            "Some weights of the model checkpoint at asafaya/bert-mini-arabic were not used when initializing BertModel: ['cls.predictions.bias', 'cls.predictions.transform.LayerNorm.weight', 'cls.predictions.transform.dense.weight', 'cls.predictions.transform.dense.bias', 'cls.predictions.decoder.weight', 'cls.predictions.transform.LayerNorm.bias', 'cls.predictions.decoder.bias']\n",
            "- This IS expected if you are initializing BertModel from the checkpoint of a model trained on another task or with another architecture (e.g. initializing a BertForSequenceClassification model from a BertForPreTraining model).\n",
            "- This IS NOT expected if you are initializing BertModel from the checkpoint of a model that you expect to be exactly identical (initializing a BertForSequenceClassification model from a BertForSequenceClassification model).\n",
            "Some weights of the model checkpoint at asafaya/bert-mini-arabic were not used when initializing BertModel: ['cls.predictions.bias', 'cls.predictions.transform.LayerNorm.weight', 'cls.predictions.transform.dense.weight', 'cls.predictions.transform.dense.bias', 'cls.predictions.decoder.weight', 'cls.predictions.transform.LayerNorm.bias', 'cls.predictions.decoder.bias']\n",
            "- This IS expected if you are initializing BertModel from the checkpoint of a model trained on another task or with another architecture (e.g. initializing a BertForSequenceClassification model from a BertForPreTraining model).\n",
            "- This IS NOT expected if you are initializing BertModel from the checkpoint of a model that you expect to be exactly identical (initializing a BertForSequenceClassification model from a BertForSequenceClassification model).\n",
            "Some weights of the model checkpoint at asafaya/bert-mini-arabic were not used when initializing BertModel: ['cls.predictions.bias', 'cls.predictions.transform.LayerNorm.weight', 'cls.predictions.transform.dense.weight', 'cls.predictions.transform.dense.bias', 'cls.predictions.decoder.weight', 'cls.predictions.transform.LayerNorm.bias', 'cls.predictions.decoder.bias']\n",
            "- This IS expected if you are initializing BertModel from the checkpoint of a model trained on another task or with another architecture (e.g. initializing a BertForSequenceClassification model from a BertForPreTraining model).\n",
            "- This IS NOT expected if you are initializing BertModel from the checkpoint of a model that you expect to be exactly identical (initializing a BertForSequenceClassification model from a BertForSequenceClassification model).\n",
            "Some weights of the model checkpoint at asafaya/bert-mini-arabic were not used when initializing BertModel: ['cls.predictions.bias', 'cls.predictions.transform.LayerNorm.weight', 'cls.predictions.transform.dense.weight', 'cls.predictions.transform.dense.bias', 'cls.predictions.decoder.weight', 'cls.predictions.transform.LayerNorm.bias', 'cls.predictions.decoder.bias']\n",
            "- This IS expected if you are initializing BertModel from the checkpoint of a model trained on another task or with another architecture (e.g. initializing a BertForSequenceClassification model from a BertForPreTraining model).\n",
            "- This IS NOT expected if you are initializing BertModel from the checkpoint of a model that you expect to be exactly identical (initializing a BertForSequenceClassification model from a BertForSequenceClassification model).\n"
          ]
        },
        {
          "data": {
            "application/vnd.jupyter.widget-view+json": {
              "model_id": "0349ad23aa7642f6a83e8c4053b08979",
              "version_major": 2,
              "version_minor": 0
            },
            "text/plain": [
              "  0%|          | 0/8 [00:00<?, ?it/s]"
            ]
          },
          "metadata": {},
          "output_type": "display_data"
        }
      ],
      "source": [
        "from tqdm.auto import tqdm\n",
        "\n",
        "\n",
        "MODEL_TYPE = \"Mini\"\n",
        "modelcategory= ArabicBertModel(output=10,weight=torch.tensor([9.0, 2.0, 1.0, 3.0, 1.0, 3.0, 3.0, 9.0, 9.0, 3.0]),model_type=MODEL_TYPE)\n",
        "modelcategory = modelcategory.load_from_checkpoint(\n",
        "    output=10,\n",
        "    weight=torch.tensor([9.0, 2.0, 1.0, 3.0, 1.0, 3.0, 3.0, 9.0, 9.0, 3.0]),\n",
        "    checkpoint_path=\"/content/lightning_logs/version_4/checkpoints/epoch=2-step=165.ckpt\",\n",
        "    hparams_file=\"/content/lightning_logs/version_4/hparams.yaml\",\n",
        "    map_location=None,\n",
        ")\n",
        "\n",
        "modelstance= ArabicBertModel(output=3,weight=torch.tensor([5.0,2.0,1.0]),model_type=MODEL_TYPE)\n",
        "modelstance = modelstance.load_from_checkpoint(\n",
        "    output=3,\n",
        "    weight=torch.tensor([5.0,2.0,1.0]),\n",
        "    checkpoint_path=\"/content/lightning_logs/version_0/checkpoints/epoch=2-step=165.ckpt\",\n",
        "    hparams_file=\"/content/lightning_logs/version_0/hparams.yaml\",\n",
        "    map_location=None,\n",
        ")\n",
        "\n",
        "device = torch.device(\"cuda\" if torch.cuda.is_available() else \"cpu\")\n",
        "modelcategory.to(device)\n",
        "\n",
        "\n",
        "preds_cat = []\n",
        "preds_stance = []\n",
        "\n",
        "load = ArabicDataModule(test_path=\"/content/test.csv\",batch_size=128,max_len=80)\n",
        "load.setup()\n",
        "test_dataloader = load.test_dataloader()\n",
        "\n",
        "progress_bar = tqdm(range(len(test_dataloader)))\n",
        "\n",
        "modelstance.eval()\n",
        "modelcategory.eval()\n",
        "for batch in test_dataloader:    \n",
        "    x= batch[\"inputs\"]\n",
        "    inp = {k: v.to(device) for k, v in x.items()}\n",
        "    \n",
        "    with torch.no_grad():\n",
        "        outputs_cat = modelcategory(inp)\n",
        "        outputs_stance = modelstance(inp)\n",
        "\n",
        "    predictions_cat = torch.argmax(outputs_cat, dim=-1)\n",
        "    predictions_stance = torch.argmax(outputs_stance, dim=-1)\n",
        "    \n",
        "    preds_cat.extend(predictions_cat)\n",
        "    preds_stance.extend(predictions_stance)\n",
        "\n",
        "    progress_bar.update()\n",
        "    \n",
        "preds_cat = torch.stack(preds_cat).cpu()\n",
        "preds_stance = torch.stack(preds_stance).cpu()"
      ]
    },
    {
      "cell_type": "code",
      "execution_count": null,
      "id": "fs_h_Yfd8J5h",
      "metadata": {
        "id": "fs_h_Yfd8J5h"
      },
      "outputs": [],
      "source": [
        "le_decode_cat=joblib.load('/content/label_encoder.pkl')\n",
        "le_decode_stance=joblib.load('/content/label_encoder_stance.pkl')\n",
        "print(preds_cat)\n",
        "print(preds_stance)"
      ]
    },
    {
      "cell_type": "code",
      "execution_count": 52,
      "id": "O1AV6-JZCd04",
      "metadata": {
        "id": "O1AV6-JZCd04"
      },
      "outputs": [],
      "source": [
        "test = pd.read_csv(\"/content/test.csv\")\n",
        "test.loc[:,\"category\"] = le_decode_cat.inverse_transform(preds_cat)\n",
        "test.loc[:,\"stance\"] = le_decode_stance.inverse_transform(preds_stance)\n",
        "test.to_csv(\"test2.csv\")"
      ]
    }
  ],
  "metadata": {
    "colab": {
      "provenance": []
    },
    "kernelspec": {
      "display_name": "Python 3",
      "language": "python",
      "name": "python3"
    },
    "language_info": {
      "codemirror_mode": {
        "name": "ipython",
        "version": 3
      },
      "file_extension": ".py",
      "mimetype": "text/x-python",
      "name": "python",
      "nbconvert_exporter": "python",
      "pygments_lexer": "ipython3",
      "version": "3.7.9"
    },
    "papermill": {
      "default_parameters": {},
      "duration": 11125.535722,
      "end_time": "2022-03-13T21:55:13.272311",
      "environment_variables": {},
      "exception": null,
      "input_path": "__notebook__.ipynb",
      "output_path": "__notebook__.ipynb",
      "parameters": {},
      "start_time": "2022-03-13T18:49:47.736589",
      "version": "2.3.2"
    },
    "widgets": {
      "application/vnd.jupyter.widget-state+json": {
        "0349ad23aa7642f6a83e8c4053b08979": {
          "model_module": "@jupyter-widgets/controls",
          "model_module_version": "1.5.0",
          "model_name": "HBoxModel",
          "state": {
            "_dom_classes": [],
            "_model_module": "@jupyter-widgets/controls",
            "_model_module_version": "1.5.0",
            "_model_name": "HBoxModel",
            "_view_count": null,
            "_view_module": "@jupyter-widgets/controls",
            "_view_module_version": "1.5.0",
            "_view_name": "HBoxView",
            "box_style": "",
            "children": [
              "IPY_MODEL_d7ae75d62a49441b88d013a038bb9942",
              "IPY_MODEL_6531d9497f0b417185c657de8d1209ee",
              "IPY_MODEL_54328a6a4238474890842a3d27ade74d"
            ],
            "layout": "IPY_MODEL_ae8056e37cc3405d863e7f1f03836c7e"
          }
        },
        "1a89c114afdd4b1391a8ade87e18c553": {
          "model_module": "@jupyter-widgets/controls",
          "model_module_version": "1.5.0",
          "model_name": "DescriptionStyleModel",
          "state": {
            "_model_module": "@jupyter-widgets/controls",
            "_model_module_version": "1.5.0",
            "_model_name": "DescriptionStyleModel",
            "_view_count": null,
            "_view_module": "@jupyter-widgets/base",
            "_view_module_version": "1.2.0",
            "_view_name": "StyleView",
            "description_width": ""
          }
        },
        "1de82dba99d64136a2f800d67c5d4c0f": {
          "model_module": "@jupyter-widgets/base",
          "model_module_version": "1.2.0",
          "model_name": "LayoutModel",
          "state": {
            "_model_module": "@jupyter-widgets/base",
            "_model_module_version": "1.2.0",
            "_model_name": "LayoutModel",
            "_view_count": null,
            "_view_module": "@jupyter-widgets/base",
            "_view_module_version": "1.2.0",
            "_view_name": "LayoutView",
            "align_content": null,
            "align_items": null,
            "align_self": null,
            "border": null,
            "bottom": null,
            "display": null,
            "flex": null,
            "flex_flow": null,
            "grid_area": null,
            "grid_auto_columns": null,
            "grid_auto_flow": null,
            "grid_auto_rows": null,
            "grid_column": null,
            "grid_gap": null,
            "grid_row": null,
            "grid_template_areas": null,
            "grid_template_columns": null,
            "grid_template_rows": null,
            "height": null,
            "justify_content": null,
            "justify_items": null,
            "left": null,
            "margin": null,
            "max_height": null,
            "max_width": null,
            "min_height": null,
            "min_width": null,
            "object_fit": null,
            "object_position": null,
            "order": null,
            "overflow": null,
            "overflow_x": null,
            "overflow_y": null,
            "padding": null,
            "right": null,
            "top": null,
            "visibility": null,
            "width": null
          }
        },
        "4fc750898c7c47b09cec99bdbb4e78ea": {
          "model_module": "@jupyter-widgets/base",
          "model_module_version": "1.2.0",
          "model_name": "LayoutModel",
          "state": {
            "_model_module": "@jupyter-widgets/base",
            "_model_module_version": "1.2.0",
            "_model_name": "LayoutModel",
            "_view_count": null,
            "_view_module": "@jupyter-widgets/base",
            "_view_module_version": "1.2.0",
            "_view_name": "LayoutView",
            "align_content": null,
            "align_items": null,
            "align_self": null,
            "border": null,
            "bottom": null,
            "display": null,
            "flex": null,
            "flex_flow": null,
            "grid_area": null,
            "grid_auto_columns": null,
            "grid_auto_flow": null,
            "grid_auto_rows": null,
            "grid_column": null,
            "grid_gap": null,
            "grid_row": null,
            "grid_template_areas": null,
            "grid_template_columns": null,
            "grid_template_rows": null,
            "height": null,
            "justify_content": null,
            "justify_items": null,
            "left": null,
            "margin": null,
            "max_height": null,
            "max_width": null,
            "min_height": null,
            "min_width": null,
            "object_fit": null,
            "object_position": null,
            "order": null,
            "overflow": null,
            "overflow_x": null,
            "overflow_y": null,
            "padding": null,
            "right": null,
            "top": null,
            "visibility": null,
            "width": null
          }
        },
        "54328a6a4238474890842a3d27ade74d": {
          "model_module": "@jupyter-widgets/controls",
          "model_module_version": "1.5.0",
          "model_name": "HTMLModel",
          "state": {
            "_dom_classes": [],
            "_model_module": "@jupyter-widgets/controls",
            "_model_module_version": "1.5.0",
            "_model_name": "HTMLModel",
            "_view_count": null,
            "_view_module": "@jupyter-widgets/controls",
            "_view_module_version": "1.5.0",
            "_view_name": "HTMLView",
            "description": "",
            "description_tooltip": null,
            "layout": "IPY_MODEL_bcefa4f9206344f78e3357657085aed1",
            "placeholder": "​",
            "style": "IPY_MODEL_e73a98f5eb8c4e51a3c7370b4cdadcbd",
            "value": " 8/8 [00:26&lt;00:00,  2.96s/it]"
          }
        },
        "6531d9497f0b417185c657de8d1209ee": {
          "model_module": "@jupyter-widgets/controls",
          "model_module_version": "1.5.0",
          "model_name": "FloatProgressModel",
          "state": {
            "_dom_classes": [],
            "_model_module": "@jupyter-widgets/controls",
            "_model_module_version": "1.5.0",
            "_model_name": "FloatProgressModel",
            "_view_count": null,
            "_view_module": "@jupyter-widgets/controls",
            "_view_module_version": "1.5.0",
            "_view_name": "ProgressView",
            "bar_style": "",
            "description": "",
            "description_tooltip": null,
            "layout": "IPY_MODEL_1de82dba99d64136a2f800d67c5d4c0f",
            "max": 8,
            "min": 0,
            "orientation": "horizontal",
            "style": "IPY_MODEL_f42fa682828c471e9d951a430d7f4482",
            "value": 8
          }
        },
        "ae8056e37cc3405d863e7f1f03836c7e": {
          "model_module": "@jupyter-widgets/base",
          "model_module_version": "1.2.0",
          "model_name": "LayoutModel",
          "state": {
            "_model_module": "@jupyter-widgets/base",
            "_model_module_version": "1.2.0",
            "_model_name": "LayoutModel",
            "_view_count": null,
            "_view_module": "@jupyter-widgets/base",
            "_view_module_version": "1.2.0",
            "_view_name": "LayoutView",
            "align_content": null,
            "align_items": null,
            "align_self": null,
            "border": null,
            "bottom": null,
            "display": null,
            "flex": null,
            "flex_flow": null,
            "grid_area": null,
            "grid_auto_columns": null,
            "grid_auto_flow": null,
            "grid_auto_rows": null,
            "grid_column": null,
            "grid_gap": null,
            "grid_row": null,
            "grid_template_areas": null,
            "grid_template_columns": null,
            "grid_template_rows": null,
            "height": null,
            "justify_content": null,
            "justify_items": null,
            "left": null,
            "margin": null,
            "max_height": null,
            "max_width": null,
            "min_height": null,
            "min_width": null,
            "object_fit": null,
            "object_position": null,
            "order": null,
            "overflow": null,
            "overflow_x": null,
            "overflow_y": null,
            "padding": null,
            "right": null,
            "top": null,
            "visibility": null,
            "width": null
          }
        },
        "bcefa4f9206344f78e3357657085aed1": {
          "model_module": "@jupyter-widgets/base",
          "model_module_version": "1.2.0",
          "model_name": "LayoutModel",
          "state": {
            "_model_module": "@jupyter-widgets/base",
            "_model_module_version": "1.2.0",
            "_model_name": "LayoutModel",
            "_view_count": null,
            "_view_module": "@jupyter-widgets/base",
            "_view_module_version": "1.2.0",
            "_view_name": "LayoutView",
            "align_content": null,
            "align_items": null,
            "align_self": null,
            "border": null,
            "bottom": null,
            "display": null,
            "flex": null,
            "flex_flow": null,
            "grid_area": null,
            "grid_auto_columns": null,
            "grid_auto_flow": null,
            "grid_auto_rows": null,
            "grid_column": null,
            "grid_gap": null,
            "grid_row": null,
            "grid_template_areas": null,
            "grid_template_columns": null,
            "grid_template_rows": null,
            "height": null,
            "justify_content": null,
            "justify_items": null,
            "left": null,
            "margin": null,
            "max_height": null,
            "max_width": null,
            "min_height": null,
            "min_width": null,
            "object_fit": null,
            "object_position": null,
            "order": null,
            "overflow": null,
            "overflow_x": null,
            "overflow_y": null,
            "padding": null,
            "right": null,
            "top": null,
            "visibility": null,
            "width": null
          }
        },
        "d7ae75d62a49441b88d013a038bb9942": {
          "model_module": "@jupyter-widgets/controls",
          "model_module_version": "1.5.0",
          "model_name": "HTMLModel",
          "state": {
            "_dom_classes": [],
            "_model_module": "@jupyter-widgets/controls",
            "_model_module_version": "1.5.0",
            "_model_name": "HTMLModel",
            "_view_count": null,
            "_view_module": "@jupyter-widgets/controls",
            "_view_module_version": "1.5.0",
            "_view_name": "HTMLView",
            "description": "",
            "description_tooltip": null,
            "layout": "IPY_MODEL_4fc750898c7c47b09cec99bdbb4e78ea",
            "placeholder": "​",
            "style": "IPY_MODEL_1a89c114afdd4b1391a8ade87e18c553",
            "value": "100%"
          }
        },
        "e73a98f5eb8c4e51a3c7370b4cdadcbd": {
          "model_module": "@jupyter-widgets/controls",
          "model_module_version": "1.5.0",
          "model_name": "DescriptionStyleModel",
          "state": {
            "_model_module": "@jupyter-widgets/controls",
            "_model_module_version": "1.5.0",
            "_model_name": "DescriptionStyleModel",
            "_view_count": null,
            "_view_module": "@jupyter-widgets/base",
            "_view_module_version": "1.2.0",
            "_view_name": "StyleView",
            "description_width": ""
          }
        },
        "f42fa682828c471e9d951a430d7f4482": {
          "model_module": "@jupyter-widgets/controls",
          "model_module_version": "1.5.0",
          "model_name": "ProgressStyleModel",
          "state": {
            "_model_module": "@jupyter-widgets/controls",
            "_model_module_version": "1.5.0",
            "_model_name": "ProgressStyleModel",
            "_view_count": null,
            "_view_module": "@jupyter-widgets/base",
            "_view_module_version": "1.2.0",
            "_view_name": "StyleView",
            "bar_color": null,
            "description_width": ""
          }
        }
      }
    }
  },
  "nbformat": 4,
  "nbformat_minor": 5
}
