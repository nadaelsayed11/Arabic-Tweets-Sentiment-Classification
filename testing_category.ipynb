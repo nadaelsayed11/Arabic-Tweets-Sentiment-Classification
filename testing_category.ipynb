{
  "cells": [
    {
      "cell_type": "code",
      "source": [
        "from google.colab import drive\n",
        "drive.mount('/content/drive', force_remount=True)"
      ],
      "metadata": {
        "colab": {
          "base_uri": "https://localhost:8080/"
        },
        "id": "wDXNRr4wmDHR",
        "outputId": "16cf6b5b-4bd4-4ac5-bac6-0342cbd167ee"
      },
      "execution_count": 1,
      "outputs": [
        {
          "output_type": "stream",
          "name": "stdout",
          "text": [
            "Mounted at /content/drive\n"
          ]
        }
      ]
    },
    {
      "cell_type": "code",
      "source": [
        "%cd drive/MyDrive/nlp_project"
      ],
      "metadata": {
        "colab": {
          "base_uri": "https://localhost:8080/"
        },
        "id": "hPOfzKgXmFE1",
        "outputId": "913f52b0-99db-4ab5-c82c-8b10799bf0bd"
      },
      "execution_count": 2,
      "outputs": [
        {
          "output_type": "stream",
          "name": "stdout",
          "text": [
            "/content/drive/MyDrive/nlp_project\n"
          ]
        }
      ]
    },
    {
      "cell_type": "code",
      "source": [
        "!pip install pyarabic\n",
        "!pip install arabic-stopwords\n",
        "!pip install qalsadi"
      ],
      "metadata": {
        "colab": {
          "base_uri": "https://localhost:8080/"
        },
        "id": "0AD_9EnImXqM",
        "outputId": "866eb91b-d27e-4500-cd1f-c1c235efe4c9"
      },
      "execution_count": 3,
      "outputs": [
        {
          "output_type": "stream",
          "name": "stdout",
          "text": [
            "Looking in indexes: https://pypi.org/simple, https://us-python.pkg.dev/colab-wheels/public/simple/\n",
            "Requirement already satisfied: pyarabic in /usr/local/lib/python3.8/dist-packages (0.6.15)\n",
            "Requirement already satisfied: six>=1.14.0 in /usr/local/lib/python3.8/dist-packages (from pyarabic) (1.15.0)\n",
            "Looking in indexes: https://pypi.org/simple, https://us-python.pkg.dev/colab-wheels/public/simple/\n",
            "Requirement already satisfied: arabic-stopwords in /usr/local/lib/python3.8/dist-packages (0.3)\n",
            "Requirement already satisfied: pyarabic>=0.6.2 in /usr/local/lib/python3.8/dist-packages (from arabic-stopwords) (0.6.15)\n",
            "Requirement already satisfied: six>=1.14.0 in /usr/local/lib/python3.8/dist-packages (from pyarabic>=0.6.2->arabic-stopwords) (1.15.0)\n",
            "Looking in indexes: https://pypi.org/simple, https://us-python.pkg.dev/colab-wheels/public/simple/\n",
            "Requirement already satisfied: qalsadi in /usr/local/lib/python3.8/dist-packages (0.4.5)\n",
            "Requirement already satisfied: alyahmor>=0.1 in /usr/local/lib/python3.8/dist-packages (from qalsadi) (0.1.5)\n",
            "Requirement already satisfied: Arabic-Stopwords>=0.3 in /usr/local/lib/python3.8/dist-packages (from qalsadi) (0.3)\n",
            "Requirement already satisfied: arramooz-pysqlite>=0.3 in /usr/local/lib/python3.8/dist-packages (from qalsadi) (0.3)\n",
            "Requirement already satisfied: six>=1.10.0 in /usr/local/lib/python3.8/dist-packages (from qalsadi) (1.15.0)\n",
            "Requirement already satisfied: libqutrub>=1.2.3 in /usr/local/lib/python3.8/dist-packages (from qalsadi) (1.2.4.1)\n",
            "Requirement already satisfied: future>=0.16.0 in /usr/local/lib/python3.8/dist-packages (from qalsadi) (0.16.0)\n",
            "Requirement already satisfied: pyarabic>=0.6.7 in /usr/local/lib/python3.8/dist-packages (from qalsadi) (0.6.15)\n",
            "Requirement already satisfied: tashaphyne>=0.3.4.1 in /usr/local/lib/python3.8/dist-packages (from qalsadi) (0.3.6)\n",
            "Requirement already satisfied: naftawayh>=0.3 in /usr/local/lib/python3.8/dist-packages (from qalsadi) (0.4)\n",
            "Requirement already satisfied: pickledb>=0.9.2 in /usr/local/lib/python3.8/dist-packages (from qalsadi) (0.9.2)\n"
          ]
        }
      ]
    },
    {
      "cell_type": "code",
      "execution_count": 4,
      "metadata": {
        "id": "sFSuYIRqmB7d",
        "colab": {
          "base_uri": "https://localhost:8080/"
        },
        "outputId": "f8ffbcb3-425f-4b57-df8e-30d32ce0b37e"
      },
      "outputs": [
        {
          "output_type": "stream",
          "name": "stderr",
          "text": [
            "/usr/local/lib/python3.8/dist-packages/torch/cuda/__init__.py:497: UserWarning: Can't initialize NVML\n",
            "  warnings.warn(\"Can't initialize NVML\")\n"
          ]
        }
      ],
      "source": [
        "from sklearn import metrics\n",
        "import pandas as pd\n",
        "from torch import nn\n",
        "from pyarabic.araby import tokenize\n",
        "import numpy as np\n",
        "import pickle\n",
        "import spacy\n",
        "import torch\n",
        "\n",
        "# from model_building import Classifier \n",
        "from pre_processing_post import processPost\n",
        "from feature_extraction import get_ngram_features, get_word_embedding_features, avg_word_vector\n",
        "from gru_model import ArabicDataset, Classifier, evaluate, train"
      ]
    },
    {
      "cell_type": "code",
      "execution_count": 5,
      "metadata": {
        "id": "kyqggDmAmB7n"
      },
      "outputs": [],
      "source": [
        "# needed functions\n",
        "def print_report(y_pred, y_test):\n",
        "    report = metrics.classification_report(y_test, y_pred)\n",
        "    print(report)\n",
        "    print(\"accuracy: {:0.3f}\".format(metrics.accuracy_score(y_test, y_pred)))"
      ]
    },
    {
      "cell_type": "code",
      "execution_count": 6,
      "metadata": {
        "id": "PrWnSaoOmB7p"
      },
      "outputs": [],
      "source": [
        "# load AraVec Spacy model\n",
        "nlp = spacy.load(\"./spacy.aravec.model/\")"
      ]
    },
    {
      "cell_type": "code",
      "execution_count": 7,
      "metadata": {
        "id": "eUBzKwr6mB7s"
      },
      "outputs": [],
      "source": [
        "test_data = pd.read_csv('./DataSet/dev.csv',sep=',',header=0)\n",
        "test_data['text'] = test_data['text'].apply(lambda x: processPost(x))\n",
        "test_data['category'] = test_data['category'].astype('category').cat.codes"
      ]
    },
    {
      "cell_type": "code",
      "execution_count": 8,
      "metadata": {
        "id": "031sNg5cmB7t"
      },
      "outputs": [],
      "source": [
        "# load word2index dictionary\n",
        "with open('./vocab/category/word2index.pickle', 'rb') as f:\n",
        "    word2index = pickle.load(f)"
      ]
    },
    {
      "cell_type": "code",
      "execution_count": 9,
      "metadata": {
        "colab": {
          "base_uri": "https://localhost:8080/"
        },
        "id": "TvGi85mSmB7v",
        "outputId": "2788a9dd-214f-4059-9565-e15db7e6f64e"
      },
      "outputs": [
        {
          "output_type": "execute_result",
          "data": {
            "text/plain": [
              "torch.Size([12538, 100])"
            ]
          },
          "metadata": {},
          "execution_count": 9
        }
      ],
      "source": [
        "weights_train_matrix = []\n",
        "for word in word2index:\n",
        "  weights_train_matrix.append(nlp(word).vector)\n",
        "\n",
        "weights_train_matrix = torch.from_numpy(np.array(weights_train_matrix))\n",
        "weights_train_matrix.size()"
      ]
    },
    {
      "cell_type": "markdown",
      "metadata": {
        "id": "S_dZeBxsmB7x"
      },
      "source": [
        "td-idf feature"
      ]
    },
    {
      "cell_type": "code",
      "execution_count": 17,
      "metadata": {
        "id": "0ah4rU5XmB70"
      },
      "outputs": [],
      "source": [
        "# load SVC model\n",
        "with open('./models/category/LinearSVC_tfidf.sav', 'rb') as f:\n",
        "    SVC_model = pickle.load(f)\n",
        "\n",
        "with open('./models/category/BoWVectorizer.sav', 'rb') as f:\n",
        "    word_vectorizer = pickle.load(f)\n",
        "\n",
        "X_test_BoW = word_vectorizer.transform(test_data['text'])\n",
        "y_pred = SVC_model.predict_proba(test_data['text'])"
      ]
    },
    {
      "cell_type": "code",
      "execution_count": 19,
      "metadata": {
        "id": "Wshd6OR0mB72"
      },
      "outputs": [],
      "source": [
        "with open('./models/category/RandomForest_Bow.sav', 'rb') as f:\n",
        "    rf = pickle.load(f)\n",
        "\n",
        "y_pred += rf.predict_proba(X_test_BoW)"
      ]
    },
    {
      "cell_type": "code",
      "execution_count": 20,
      "metadata": {
        "id": "SaUb1JKumB73"
      },
      "outputs": [],
      "source": [
        "#load GRU model\n",
        "# with open('./models/category/GRU_Ara2Vec.pth', 'rb') as f:\n",
        "#     gru_model = Classifier(weights_train_matrix, n_classes=10, n_layer=2)\n",
        "#     gru_model.load_state_dict(torch.load(f), strict=False)\n",
        "#     gru_model.eval()\n",
        "\n",
        "# test_data_tokenized = test_data['text'].apply(tokenize)\n",
        "# test_data_tokenized_as_num = test_data_tokenized.apply(lambda x: [word2index[word] for word in x if word in word2index])\n",
        "# test_dataset = ArabicDataset(list(test_data_tokenized_as_num), test_data['category'], word2index['<فراغ>'])\n",
        "with open('./probability/GRU_prob.pickle', 'rb') as f:\n",
        "    gru_prob = pickle.load(f)\n",
        "y_pred += gru_prob"
      ]
    },
    {
      "cell_type": "code",
      "source": [
        "# load transformer probas\n",
        "# with open('./probability/y_prob_cat.pickle', 'rb') as f:\n",
        "#     y_prob_category = pickle.load(f)"
      ],
      "metadata": {
        "id": "PY5pO-rLC1WF"
      },
      "execution_count": 21,
      "outputs": []
    },
    {
      "cell_type": "code",
      "source": [
        "# y_pred += y_prob_category"
      ],
      "metadata": {
        "id": "pmF4wYggDByv"
      },
      "execution_count": 22,
      "outputs": []
    },
    {
      "cell_type": "code",
      "execution_count": 23,
      "metadata": {
        "colab": {
          "base_uri": "https://localhost:8080/"
        },
        "id": "9qtAycDRmB75",
        "outputId": "828a5646-6458-475a-9778-7628d47a8c97"
      },
      "outputs": [
        {
          "output_type": "stream",
          "name": "stdout",
          "text": [
            "              precision    recall  f1-score   support\n",
            "\n",
            "           0       0.10      0.20      0.13        10\n",
            "           1       0.84      0.84      0.84       145\n",
            "           2       0.76      0.66      0.70       545\n",
            "           3       0.38      0.29      0.33        17\n",
            "           4       0.42      0.63      0.50       128\n",
            "           5       0.40      0.02      0.05        82\n",
            "           6       0.10      0.20      0.13        20\n",
            "           7       0.20      0.50      0.29         2\n",
            "           8       0.00      0.00      0.00        15\n",
            "           9       0.23      0.61      0.33        36\n",
            "\n",
            "    accuracy                           0.60      1000\n",
            "   macro avg       0.34      0.40      0.33      1000\n",
            "weighted avg       0.64      0.60      0.60      1000\n",
            "\n",
            "accuracy: 0.598\n"
          ]
        }
      ],
      "source": [
        "y_pred = np.argmax(y_pred, axis=1)\n",
        "print_report(y_pred, test_data['category'])"
      ]
    },
    {
      "cell_type": "code",
      "source": [
        "# print_report(np.argmax(y_prob_category, axis=1), test_data['category'])"
      ],
      "metadata": {
        "id": "jrwpE4KpDT36"
      },
      "execution_count": 16,
      "outputs": []
    }
  ],
  "metadata": {
    "kernelspec": {
      "display_name": "base",
      "language": "python",
      "name": "python3"
    },
    "language_info": {
      "codemirror_mode": {
        "name": "ipython",
        "version": 3
      },
      "file_extension": ".py",
      "mimetype": "text/x-python",
      "name": "python",
      "nbconvert_exporter": "python",
      "pygments_lexer": "ipython3",
      "version": "3.9.12 (main, Apr  4 2022, 05:22:27) [MSC v.1916 64 bit (AMD64)]"
    },
    "orig_nbformat": 4,
    "vscode": {
      "interpreter": {
        "hash": "62cd17edec06c1bcb7cce561853235234094d242005d116fab77979ddb024dcd"
      }
    },
    "colab": {
      "provenance": []
    }
  },
  "nbformat": 4,
  "nbformat_minor": 0
}